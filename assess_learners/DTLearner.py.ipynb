{
 "cells": [
  {
   "cell_type": "code",
   "execution_count": 1,
   "id": "fallen-collapse",
   "metadata": {},
   "outputs": [],
   "source": [
    "import pandas as pd\n",
    "import numpy as np"
   ]
  },
  {
   "cell_type": "code",
   "execution_count": 2,
   "id": "super-frank",
   "metadata": {},
   "outputs": [],
   "source": [
    "class DTLearner:\n",
    "    def __init__(leaf_size = 1, verbose = False):\n",
    "        self.leaf_size = leaf_size\n",
    "        self.verbose = verbose\n",
    "        pass\n",
    "    def train(x,y):\n",
    "        pass\n",
    "    def query(x):\n",
    "        pass"
   ]
  },
  {
   "cell_type": "code",
   "execution_count": 3,
   "id": "still-criterion",
   "metadata": {},
   "outputs": [],
   "source": [
    "df = pd.read_csv('Data/Istanbul.csv', header = None, skiprows=1)  \n",
    "df = df.drop(columns=0)"
   ]
  },
  {
   "cell_type": "code",
   "execution_count": 4,
   "id": "professional-vanilla",
   "metadata": {},
   "outputs": [
    {
     "data": {
      "text/html": [
       "<div>\n",
       "<style scoped>\n",
       "    .dataframe tbody tr th:only-of-type {\n",
       "        vertical-align: middle;\n",
       "    }\n",
       "\n",
       "    .dataframe tbody tr th {\n",
       "        vertical-align: top;\n",
       "    }\n",
       "\n",
       "    .dataframe thead th {\n",
       "        text-align: right;\n",
       "    }\n",
       "</style>\n",
       "<table border=\"1\" class=\"dataframe\">\n",
       "  <thead>\n",
       "    <tr style=\"text-align: right;\">\n",
       "      <th></th>\n",
       "      <th>1</th>\n",
       "      <th>2</th>\n",
       "      <th>3</th>\n",
       "      <th>4</th>\n",
       "      <th>5</th>\n",
       "      <th>6</th>\n",
       "      <th>7</th>\n",
       "      <th>8</th>\n",
       "      <th>9</th>\n",
       "    </tr>\n",
       "  </thead>\n",
       "  <tbody>\n",
       "    <tr>\n",
       "      <th>0</th>\n",
       "      <td>0.035754</td>\n",
       "      <td>0.038376</td>\n",
       "      <td>-0.004679</td>\n",
       "      <td>0.002193</td>\n",
       "      <td>0.003894</td>\n",
       "      <td>0.000000</td>\n",
       "      <td>0.031190</td>\n",
       "      <td>0.012698</td>\n",
       "      <td>0.028524</td>\n",
       "    </tr>\n",
       "    <tr>\n",
       "      <th>1</th>\n",
       "      <td>0.025426</td>\n",
       "      <td>0.031813</td>\n",
       "      <td>0.007787</td>\n",
       "      <td>0.008455</td>\n",
       "      <td>0.012866</td>\n",
       "      <td>0.004162</td>\n",
       "      <td>0.018920</td>\n",
       "      <td>0.011341</td>\n",
       "      <td>0.008773</td>\n",
       "    </tr>\n",
       "    <tr>\n",
       "      <th>2</th>\n",
       "      <td>-0.028862</td>\n",
       "      <td>-0.026353</td>\n",
       "      <td>-0.030469</td>\n",
       "      <td>-0.017833</td>\n",
       "      <td>-0.028735</td>\n",
       "      <td>0.017293</td>\n",
       "      <td>-0.035899</td>\n",
       "      <td>-0.017073</td>\n",
       "      <td>-0.020015</td>\n",
       "    </tr>\n",
       "    <tr>\n",
       "      <th>3</th>\n",
       "      <td>-0.062208</td>\n",
       "      <td>-0.084716</td>\n",
       "      <td>0.003391</td>\n",
       "      <td>-0.011726</td>\n",
       "      <td>-0.000466</td>\n",
       "      <td>-0.040061</td>\n",
       "      <td>0.028283</td>\n",
       "      <td>-0.005561</td>\n",
       "      <td>-0.019424</td>\n",
       "    </tr>\n",
       "    <tr>\n",
       "      <th>4</th>\n",
       "      <td>0.009860</td>\n",
       "      <td>0.009658</td>\n",
       "      <td>-0.021533</td>\n",
       "      <td>-0.019873</td>\n",
       "      <td>-0.012710</td>\n",
       "      <td>-0.004474</td>\n",
       "      <td>-0.009764</td>\n",
       "      <td>-0.010989</td>\n",
       "      <td>-0.007802</td>\n",
       "    </tr>\n",
       "    <tr>\n",
       "      <th>...</th>\n",
       "      <td>...</td>\n",
       "      <td>...</td>\n",
       "      <td>...</td>\n",
       "      <td>...</td>\n",
       "      <td>...</td>\n",
       "      <td>...</td>\n",
       "      <td>...</td>\n",
       "      <td>...</td>\n",
       "      <td>...</td>\n",
       "    </tr>\n",
       "    <tr>\n",
       "      <th>531</th>\n",
       "      <td>0.008599</td>\n",
       "      <td>0.013400</td>\n",
       "      <td>0.006238</td>\n",
       "      <td>0.001925</td>\n",
       "      <td>0.007952</td>\n",
       "      <td>0.005717</td>\n",
       "      <td>0.018371</td>\n",
       "      <td>0.006975</td>\n",
       "      <td>0.003039</td>\n",
       "    </tr>\n",
       "    <tr>\n",
       "      <th>532</th>\n",
       "      <td>0.009310</td>\n",
       "      <td>0.015977</td>\n",
       "      <td>0.003071</td>\n",
       "      <td>-0.001186</td>\n",
       "      <td>0.000345</td>\n",
       "      <td>0.002620</td>\n",
       "      <td>0.001686</td>\n",
       "      <td>-0.000581</td>\n",
       "      <td>0.001039</td>\n",
       "    </tr>\n",
       "    <tr>\n",
       "      <th>533</th>\n",
       "      <td>0.000191</td>\n",
       "      <td>-0.001653</td>\n",
       "      <td>0.001923</td>\n",
       "      <td>0.002872</td>\n",
       "      <td>-0.000723</td>\n",
       "      <td>0.000568</td>\n",
       "      <td>0.005628</td>\n",
       "      <td>0.000572</td>\n",
       "      <td>0.006938</td>\n",
       "    </tr>\n",
       "    <tr>\n",
       "      <th>534</th>\n",
       "      <td>-0.013069</td>\n",
       "      <td>-0.013706</td>\n",
       "      <td>-0.020742</td>\n",
       "      <td>-0.014239</td>\n",
       "      <td>-0.011275</td>\n",
       "      <td>0.001358</td>\n",
       "      <td>-0.011942</td>\n",
       "      <td>-0.012615</td>\n",
       "      <td>-0.000958</td>\n",
       "    </tr>\n",
       "    <tr>\n",
       "      <th>535</th>\n",
       "      <td>-0.007246</td>\n",
       "      <td>-0.019442</td>\n",
       "      <td>0.000000</td>\n",
       "      <td>-0.000473</td>\n",
       "      <td>-0.002997</td>\n",
       "      <td>-0.017920</td>\n",
       "      <td>-0.012252</td>\n",
       "      <td>-0.005465</td>\n",
       "      <td>-0.014297</td>\n",
       "    </tr>\n",
       "  </tbody>\n",
       "</table>\n",
       "<p>536 rows × 9 columns</p>\n",
       "</div>"
      ],
      "text/plain": [
       "            1         2         3         4         5         6         7  \\\n",
       "0    0.035754  0.038376 -0.004679  0.002193  0.003894  0.000000  0.031190   \n",
       "1    0.025426  0.031813  0.007787  0.008455  0.012866  0.004162  0.018920   \n",
       "2   -0.028862 -0.026353 -0.030469 -0.017833 -0.028735  0.017293 -0.035899   \n",
       "3   -0.062208 -0.084716  0.003391 -0.011726 -0.000466 -0.040061  0.028283   \n",
       "4    0.009860  0.009658 -0.021533 -0.019873 -0.012710 -0.004474 -0.009764   \n",
       "..        ...       ...       ...       ...       ...       ...       ...   \n",
       "531  0.008599  0.013400  0.006238  0.001925  0.007952  0.005717  0.018371   \n",
       "532  0.009310  0.015977  0.003071 -0.001186  0.000345  0.002620  0.001686   \n",
       "533  0.000191 -0.001653  0.001923  0.002872 -0.000723  0.000568  0.005628   \n",
       "534 -0.013069 -0.013706 -0.020742 -0.014239 -0.011275  0.001358 -0.011942   \n",
       "535 -0.007246 -0.019442  0.000000 -0.000473 -0.002997 -0.017920 -0.012252   \n",
       "\n",
       "            8         9  \n",
       "0    0.012698  0.028524  \n",
       "1    0.011341  0.008773  \n",
       "2   -0.017073 -0.020015  \n",
       "3   -0.005561 -0.019424  \n",
       "4   -0.010989 -0.007802  \n",
       "..        ...       ...  \n",
       "531  0.006975  0.003039  \n",
       "532 -0.000581  0.001039  \n",
       "533  0.000572  0.006938  \n",
       "534 -0.012615 -0.000958  \n",
       "535 -0.005465 -0.014297  \n",
       "\n",
       "[536 rows x 9 columns]"
      ]
     },
     "execution_count": 4,
     "metadata": {},
     "output_type": "execute_result"
    }
   ],
   "source": [
    "df2 = df\n",
    "df2"
   ]
  },
  {
   "cell_type": "code",
   "execution_count": 5,
   "id": "acute-stability",
   "metadata": {},
   "outputs": [
    {
     "data": {
      "text/html": [
       "<div>\n",
       "<style scoped>\n",
       "    .dataframe tbody tr th:only-of-type {\n",
       "        vertical-align: middle;\n",
       "    }\n",
       "\n",
       "    .dataframe tbody tr th {\n",
       "        vertical-align: top;\n",
       "    }\n",
       "\n",
       "    .dataframe thead th {\n",
       "        text-align: right;\n",
       "    }\n",
       "</style>\n",
       "<table border=\"1\" class=\"dataframe\">\n",
       "  <thead>\n",
       "    <tr style=\"text-align: right;\">\n",
       "      <th></th>\n",
       "      <th>9</th>\n",
       "    </tr>\n",
       "  </thead>\n",
       "  <tbody>\n",
       "    <tr>\n",
       "      <th>0</th>\n",
       "      <td>0.028524</td>\n",
       "    </tr>\n",
       "    <tr>\n",
       "      <th>1</th>\n",
       "      <td>0.008773</td>\n",
       "    </tr>\n",
       "    <tr>\n",
       "      <th>2</th>\n",
       "      <td>-0.020015</td>\n",
       "    </tr>\n",
       "    <tr>\n",
       "      <th>3</th>\n",
       "      <td>-0.019424</td>\n",
       "    </tr>\n",
       "    <tr>\n",
       "      <th>4</th>\n",
       "      <td>-0.007802</td>\n",
       "    </tr>\n",
       "    <tr>\n",
       "      <th>...</th>\n",
       "      <td>...</td>\n",
       "    </tr>\n",
       "    <tr>\n",
       "      <th>531</th>\n",
       "      <td>0.003039</td>\n",
       "    </tr>\n",
       "    <tr>\n",
       "      <th>532</th>\n",
       "      <td>0.001039</td>\n",
       "    </tr>\n",
       "    <tr>\n",
       "      <th>533</th>\n",
       "      <td>0.006938</td>\n",
       "    </tr>\n",
       "    <tr>\n",
       "      <th>534</th>\n",
       "      <td>-0.000958</td>\n",
       "    </tr>\n",
       "    <tr>\n",
       "      <th>535</th>\n",
       "      <td>-0.014297</td>\n",
       "    </tr>\n",
       "  </tbody>\n",
       "</table>\n",
       "<p>536 rows × 1 columns</p>\n",
       "</div>"
      ],
      "text/plain": [
       "            9\n",
       "0    0.028524\n",
       "1    0.008773\n",
       "2   -0.020015\n",
       "3   -0.019424\n",
       "4   -0.007802\n",
       "..        ...\n",
       "531  0.003039\n",
       "532  0.001039\n",
       "533  0.006938\n",
       "534 -0.000958\n",
       "535 -0.014297\n",
       "\n",
       "[536 rows x 1 columns]"
      ]
     },
     "execution_count": 5,
     "metadata": {},
     "output_type": "execute_result"
    }
   ],
   "source": [
    "# here's how to get the last column\n",
    "df2.iloc[:,-1:]"
   ]
  },
  {
   "cell_type": "code",
   "execution_count": 6,
   "id": "solved-turkey",
   "metadata": {},
   "outputs": [
    {
     "name": "stdout",
     "output_type": "stream",
     "text": [
      "col data 1\n",
      "0.6002952779745133\n",
      "col data 2\n",
      "0.7019537908167133\n",
      "col data 3\n",
      "0.5282432012738653\n",
      "col data 4\n",
      "0.6651624791060335\n",
      "col data 5\n",
      "0.6875434030528024\n",
      "col data 6\n",
      "0.5472879690040532\n",
      "col data 7\n",
      "0.6880735475385332\n",
      "col data 8\n",
      "0.7165016749061555\n",
      "best is  0.7165016749061555\n"
     ]
    }
   ],
   "source": [
    "best_correlation = -10000\n",
    "for col_data in df2.columns[:-1]:\n",
    "    print('col data', col_data)\n",
    "    correlation = df2[col_data].corr(df2[df2.columns[-1]])\n",
    "    if abs(correlation) > best_correlation:\n",
    "        best_correlation = correlation\n",
    "    print(df2[col_data].corr(df2[df2.columns[-1]]))\n",
    "print('best is ', best_correlation)"
   ]
  },
  {
   "cell_type": "code",
   "execution_count": null,
   "id": "demonstrated-format",
   "metadata": {},
   "outputs": [],
   "source": []
  },
  {
   "cell_type": "code",
   "execution_count": null,
   "id": "complicated-channels",
   "metadata": {},
   "outputs": [],
   "source": []
  },
  {
   "cell_type": "code",
   "execution_count": null,
   "id": "smoking-bullet",
   "metadata": {},
   "outputs": [],
   "source": []
  },
  {
   "cell_type": "code",
   "execution_count": null,
   "id": "minimal-buyer",
   "metadata": {},
   "outputs": [],
   "source": []
  },
  {
   "cell_type": "code",
   "execution_count": null,
   "id": "concerned-slovak",
   "metadata": {},
   "outputs": [],
   "source": []
  },
  {
   "cell_type": "code",
   "execution_count": 7,
   "id": "coordinate-carroll",
   "metadata": {},
   "outputs": [
    {
     "data": {
      "text/plain": [
       "array([[ 0.03575371,  0.03837619, -0.00467931, ...,  0.03119023,\n",
       "         0.01269804,  0.02852446],\n",
       "       [ 0.02542587,  0.03181274,  0.00778674, ...,  0.01891958,\n",
       "         0.01134065,  0.00877264],\n",
       "       [-0.02886173, -0.02635297, -0.03046913, ..., -0.03589858,\n",
       "        -0.0170728 , -0.02001541],\n",
       "       ...,\n",
       "       [ 0.00019097, -0.0016526 ,  0.00192291, ...,  0.00562792,\n",
       "         0.00057157,  0.00693787],\n",
       "       [-0.01306904, -0.01370599, -0.02074215, ..., -0.01194168,\n",
       "        -0.01261533, -0.00095774],\n",
       "       [-0.00724632, -0.01944185,  0.        , ..., -0.01225155,\n",
       "        -0.00546489, -0.01429693]])"
      ]
     },
     "execution_count": 7,
     "metadata": {},
     "output_type": "execute_result"
    }
   ],
   "source": [
    "arr = df2.to_numpy()\n",
    "arr.astype(np.float)"
   ]
  },
  {
   "cell_type": "code",
   "execution_count": 8,
   "id": "smooth-senate",
   "metadata": {},
   "outputs": [],
   "source": [
    "# for i in arr.T[:-1]:\n",
    "#     #print(i.shape, arr[:,1].shape)\n",
    "#     a = np.corrcoef(i, y=arr[:,-1])\n",
    "    \n",
    "#     #print(np.corrcoef(i, y=arr[:,-1]))\n",
    "#     print(a[0][1])\n",
    "t = arr.T\n",
    "best_correlation = -10000\n",
    "idx= -1\n",
    "for i in range(t.shape[0] -1):\n",
    "    #print(i.shape, arr[:,1].shape)\n",
    "    a = np.corrcoef(t[i], y=arr[:,-1])\n",
    "    \n",
    "    if abs(correlation) > best_correlation:\n",
    "        best_correlation = correlation\n",
    "        idx = i\n"
   ]
  },
  {
   "cell_type": "code",
   "execution_count": 9,
   "id": "organized-election",
   "metadata": {},
   "outputs": [
    {
     "data": {
      "text/plain": [
       "0.7165016749061555"
      ]
     },
     "execution_count": 9,
     "metadata": {},
     "output_type": "execute_result"
    }
   ],
   "source": [
    "best_correlation"
   ]
  },
  {
   "cell_type": "code",
   "execution_count": 10,
   "id": "subtle-trade",
   "metadata": {},
   "outputs": [
    {
     "data": {
      "text/plain": [
       "0"
      ]
     },
     "execution_count": 10,
     "metadata": {},
     "output_type": "execute_result"
    }
   ],
   "source": [
    "idx"
   ]
  },
  {
   "cell_type": "code",
   "execution_count": 11,
   "id": "vanilla-intention",
   "metadata": {},
   "outputs": [
    {
     "data": {
      "text/plain": [
       "0.002188758"
      ]
     },
     "execution_count": 11,
     "metadata": {},
     "output_type": "execute_result"
    }
   ],
   "source": [
    "median = np.median(t[idx])\n",
    "median"
   ]
  },
  {
   "cell_type": "code",
   "execution_count": 12,
   "id": "sufficient-oxide",
   "metadata": {},
   "outputs": [
    {
     "data": {
      "text/plain": [
       "0.002188758"
      ]
     },
     "execution_count": 12,
     "metadata": {},
     "output_type": "execute_result"
    }
   ],
   "source": [
    "m2 = np.median(arr[:,idx])\n",
    "m2"
   ]
  },
  {
   "cell_type": "code",
   "execution_count": 13,
   "id": "agricultural-charger",
   "metadata": {},
   "outputs": [],
   "source": [
    "z = arr[arr[:,idx]<=median]"
   ]
  },
  {
   "cell_type": "code",
   "execution_count": 14,
   "id": "loaded-market",
   "metadata": {},
   "outputs": [
    {
     "data": {
      "text/plain": [
       "(268, 9)"
      ]
     },
     "execution_count": 14,
     "metadata": {},
     "output_type": "execute_result"
    }
   ],
   "source": [
    "z.shape"
   ]
  },
  {
   "cell_type": "code",
   "execution_count": 15,
   "id": "fatty-opportunity",
   "metadata": {},
   "outputs": [
    {
     "data": {
      "text/plain": [
       "array([[-0.02886173, -0.02635297, -0.03046913, ..., -0.03589858,\n",
       "        -0.0170728 , -0.02001541],\n",
       "       [-0.06220808, -0.0847159 ,  0.00339136, ...,  0.02828315,\n",
       "        -0.00556096, -0.01942378],\n",
       "       [-0.02919103, -0.04236115, -0.02282263, ..., -0.05384947,\n",
       "        -0.01245126, -0.02262974],\n",
       "       ...,\n",
       "       [ 0.00019097, -0.0016526 ,  0.00192291, ...,  0.00562792,\n",
       "         0.00057157,  0.00693787],\n",
       "       [-0.01306904, -0.01370599, -0.02074215, ..., -0.01194168,\n",
       "        -0.01261533, -0.00095774],\n",
       "       [-0.00724632, -0.01944185,  0.        , ..., -0.01225155,\n",
       "        -0.00546489, -0.01429693]])"
      ]
     },
     "execution_count": 15,
     "metadata": {},
     "output_type": "execute_result"
    }
   ],
   "source": [
    "z"
   ]
  },
  {
   "cell_type": "code",
   "execution_count": 16,
   "id": "imperial-tutorial",
   "metadata": {},
   "outputs": [],
   "source": [
    "y = arr[arr[:,idx]>median]"
   ]
  },
  {
   "cell_type": "code",
   "execution_count": 17,
   "id": "expanded-release",
   "metadata": {},
   "outputs": [
    {
     "data": {
      "text/plain": [
       "(268, 9)"
      ]
     },
     "execution_count": 17,
     "metadata": {},
     "output_type": "execute_result"
    }
   ],
   "source": [
    "y.shape"
   ]
  },
  {
   "cell_type": "code",
   "execution_count": 18,
   "id": "found-count",
   "metadata": {},
   "outputs": [],
   "source": [
    "d = pd.DataFrame(y)"
   ]
  },
  {
   "cell_type": "code",
   "execution_count": 19,
   "id": "solved-pastor",
   "metadata": {},
   "outputs": [
    {
     "data": {
      "text/html": [
       "<div>\n",
       "<style scoped>\n",
       "    .dataframe tbody tr th:only-of-type {\n",
       "        vertical-align: middle;\n",
       "    }\n",
       "\n",
       "    .dataframe tbody tr th {\n",
       "        vertical-align: top;\n",
       "    }\n",
       "\n",
       "    .dataframe thead th {\n",
       "        text-align: right;\n",
       "    }\n",
       "</style>\n",
       "<table border=\"1\" class=\"dataframe\">\n",
       "  <thead>\n",
       "    <tr style=\"text-align: right;\">\n",
       "      <th></th>\n",
       "      <th>0</th>\n",
       "      <th>1</th>\n",
       "      <th>2</th>\n",
       "      <th>3</th>\n",
       "      <th>4</th>\n",
       "      <th>5</th>\n",
       "      <th>6</th>\n",
       "      <th>7</th>\n",
       "      <th>8</th>\n",
       "    </tr>\n",
       "  </thead>\n",
       "  <tbody>\n",
       "    <tr>\n",
       "      <th>0</th>\n",
       "      <td>0.035754</td>\n",
       "      <td>0.038376</td>\n",
       "      <td>-0.004679</td>\n",
       "      <td>0.002193</td>\n",
       "      <td>0.003894</td>\n",
       "      <td>0.000000</td>\n",
       "      <td>0.031190</td>\n",
       "      <td>0.012698</td>\n",
       "      <td>0.028524</td>\n",
       "    </tr>\n",
       "    <tr>\n",
       "      <th>1</th>\n",
       "      <td>0.025426</td>\n",
       "      <td>0.031813</td>\n",
       "      <td>0.007787</td>\n",
       "      <td>0.008455</td>\n",
       "      <td>0.012866</td>\n",
       "      <td>0.004162</td>\n",
       "      <td>0.018920</td>\n",
       "      <td>0.011341</td>\n",
       "      <td>0.008773</td>\n",
       "    </tr>\n",
       "    <tr>\n",
       "      <th>2</th>\n",
       "      <td>0.009860</td>\n",
       "      <td>0.009658</td>\n",
       "      <td>-0.021533</td>\n",
       "      <td>-0.019873</td>\n",
       "      <td>-0.012710</td>\n",
       "      <td>-0.004474</td>\n",
       "      <td>-0.009764</td>\n",
       "      <td>-0.010989</td>\n",
       "      <td>-0.007802</td>\n",
       "    </tr>\n",
       "    <tr>\n",
       "      <th>3</th>\n",
       "      <td>0.015445</td>\n",
       "      <td>-0.000272</td>\n",
       "      <td>0.001757</td>\n",
       "      <td>-0.017674</td>\n",
       "      <td>-0.006141</td>\n",
       "      <td>0.000000</td>\n",
       "      <td>0.003572</td>\n",
       "      <td>-0.012220</td>\n",
       "      <td>-0.004827</td>\n",
       "    </tr>\n",
       "    <tr>\n",
       "      <th>4</th>\n",
       "      <td>0.022037</td>\n",
       "      <td>0.032278</td>\n",
       "      <td>0.007533</td>\n",
       "      <td>0.006791</td>\n",
       "      <td>0.006289</td>\n",
       "      <td>0.025453</td>\n",
       "      <td>0.004867</td>\n",
       "      <td>0.008561</td>\n",
       "      <td>0.010917</td>\n",
       "    </tr>\n",
       "  </tbody>\n",
       "</table>\n",
       "</div>"
      ],
      "text/plain": [
       "          0         1         2         3         4         5         6  \\\n",
       "0  0.035754  0.038376 -0.004679  0.002193  0.003894  0.000000  0.031190   \n",
       "1  0.025426  0.031813  0.007787  0.008455  0.012866  0.004162  0.018920   \n",
       "2  0.009860  0.009658 -0.021533 -0.019873 -0.012710 -0.004474 -0.009764   \n",
       "3  0.015445 -0.000272  0.001757 -0.017674 -0.006141  0.000000  0.003572   \n",
       "4  0.022037  0.032278  0.007533  0.006791  0.006289  0.025453  0.004867   \n",
       "\n",
       "          7         8  \n",
       "0  0.012698  0.028524  \n",
       "1  0.011341  0.008773  \n",
       "2 -0.010989 -0.007802  \n",
       "3 -0.012220 -0.004827  \n",
       "4  0.008561  0.010917  "
      ]
     },
     "execution_count": 19,
     "metadata": {},
     "output_type": "execute_result"
    }
   ],
   "source": [
    "d.head()"
   ]
  },
  {
   "cell_type": "code",
   "execution_count": 20,
   "id": "southwest-remainder",
   "metadata": {},
   "outputs": [
    {
     "data": {
      "text/plain": [
       "array([[ 0.03575371,  0.03837619, -0.00467931, ...,  0.03119023,\n",
       "         0.01269804,  0.02852446],\n",
       "       [ 0.02542587,  0.03181274,  0.00778674, ...,  0.01891958,\n",
       "         0.01134065,  0.00877264],\n",
       "       [ 0.00985991,  0.00965811, -0.02153321, ..., -0.00976388,\n",
       "        -0.01098863, -0.00780221],\n",
       "       ...,\n",
       "       [ 0.00360638,  0.00089272, -0.0032402 , ..., -0.00326564,\n",
       "        -0.00054988, -0.00143045],\n",
       "       [ 0.00859906,  0.0133999 ,  0.00623799, ...,  0.01837079,\n",
       "         0.00697461,  0.00303899],\n",
       "       [ 0.00931031,  0.0159772 ,  0.00307089, ...,  0.00168569,\n",
       "        -0.00058051,  0.00103859]])"
      ]
     },
     "execution_count": 20,
     "metadata": {},
     "output_type": "execute_result"
    }
   ],
   "source": [
    "y"
   ]
  },
  {
   "cell_type": "code",
   "execution_count": 21,
   "id": "attractive-advisory",
   "metadata": {},
   "outputs": [
    {
     "data": {
      "text/plain": [
       "array([ 0.03575371,  0.03837619, -0.00467931,  0.00219342,  0.00389438,\n",
       "        0.        ,  0.03119023,  0.01269804,  0.02852446])"
      ]
     },
     "execution_count": 21,
     "metadata": {},
     "output_type": "execute_result"
    }
   ],
   "source": [
    "y[0]"
   ]
  },
  {
   "cell_type": "code",
   "execution_count": 22,
   "id": "interim-penalty",
   "metadata": {},
   "outputs": [
    {
     "data": {
      "text/plain": [
       "0.002192959"
      ]
     },
     "execution_count": 22,
     "metadata": {},
     "output_type": "execute_result"
    }
   ],
   "source": [
    "np.min(y[:,0])"
   ]
  },
  {
   "cell_type": "code",
   "execution_count": 23,
   "id": "scenic-moscow",
   "metadata": {},
   "outputs": [
    {
     "data": {
      "text/plain": [
       "0.002184557"
      ]
     },
     "execution_count": 23,
     "metadata": {},
     "output_type": "execute_result"
    }
   ],
   "source": [
    "np.max(z[:,0])"
   ]
  },
  {
   "cell_type": "code",
   "execution_count": 24,
   "id": "appointed-candy",
   "metadata": {},
   "outputs": [
    {
     "data": {
      "text/plain": [
       "array([], shape=(0, 3), dtype=float64)"
      ]
     },
     "execution_count": 24,
     "metadata": {},
     "output_type": "execute_result"
    }
   ],
   "source": [
    "a = np.empty((0,3))\n",
    "a"
   ]
  },
  {
   "cell_type": "code",
   "execution_count": 25,
   "id": "surprising-christian",
   "metadata": {},
   "outputs": [
    {
     "data": {
      "text/plain": [
       "(2, 3)"
      ]
     },
     "execution_count": 25,
     "metadata": {},
     "output_type": "execute_result"
    }
   ],
   "source": [
    "arr2 = np.array([[1, 2, 3], [4, 5, 6]])\n",
    "arr2.shape"
   ]
  },
  {
   "cell_type": "code",
   "execution_count": 26,
   "id": "adequate-reynolds",
   "metadata": {},
   "outputs": [],
   "source": [
    "a = np.append(a, arr2)"
   ]
  },
  {
   "cell_type": "code",
   "execution_count": 27,
   "id": "catholic-frequency",
   "metadata": {},
   "outputs": [
    {
     "data": {
      "text/plain": [
       "array([1., 2., 3., 4., 5., 6.])"
      ]
     },
     "execution_count": 27,
     "metadata": {},
     "output_type": "execute_result"
    }
   ],
   "source": [
    "a"
   ]
  },
  {
   "cell_type": "code",
   "execution_count": 28,
   "id": "popular-radius",
   "metadata": {},
   "outputs": [
    {
     "data": {
      "text/plain": [
       "(6,)"
      ]
     },
     "execution_count": 28,
     "metadata": {},
     "output_type": "execute_result"
    }
   ],
   "source": [
    "a.shape"
   ]
  },
  {
   "cell_type": "code",
   "execution_count": 35,
   "id": "smooth-inclusion",
   "metadata": {},
   "outputs": [
    {
     "data": {
      "text/plain": [
       "array([], shape=(0, 5), dtype=float64)"
      ]
     },
     "execution_count": 35,
     "metadata": {},
     "output_type": "execute_result"
    }
   ],
   "source": [
    "em = np.empty((0,5))\n",
    "em"
   ]
  },
  {
   "cell_type": "code",
   "execution_count": 36,
   "id": "received-dating",
   "metadata": {},
   "outputs": [],
   "source": [
    "arr2 = np.array([[1, 2, 3, 9, 49], [4, 5, 6, 69, 12]])"
   ]
  },
  {
   "cell_type": "code",
   "execution_count": 37,
   "id": "opposite-listing",
   "metadata": {},
   "outputs": [
    {
     "data": {
      "text/plain": [
       "array([[ 1,  2,  3,  9, 49],\n",
       "       [ 4,  5,  6, 69, 12]])"
      ]
     },
     "execution_count": 37,
     "metadata": {},
     "output_type": "execute_result"
    }
   ],
   "source": [
    "arr2"
   ]
  },
  {
   "cell_type": "code",
   "execution_count": 38,
   "id": "cleared-floor",
   "metadata": {},
   "outputs": [
    {
     "data": {
      "text/plain": [
       "(2, 5)"
      ]
     },
     "execution_count": 38,
     "metadata": {},
     "output_type": "execute_result"
    }
   ],
   "source": [
    "arr2.shape"
   ]
  },
  {
   "cell_type": "code",
   "execution_count": 40,
   "id": "nearby-cleveland",
   "metadata": {},
   "outputs": [],
   "source": [
    "em = np.vstack((em, arr2))"
   ]
  },
  {
   "cell_type": "code",
   "execution_count": 34,
   "id": "sound-binding",
   "metadata": {},
   "outputs": [
    {
     "data": {
      "text/plain": [
       "array([[ 1.,  2.,  3.,  9., 49.],\n",
       "       [ 4.,  5.,  6., 69., 12.]])"
      ]
     },
     "execution_count": 34,
     "metadata": {},
     "output_type": "execute_result"
    }
   ],
   "source": [
    "em"
   ]
  },
  {
   "cell_type": "code",
   "execution_count": 41,
   "id": "paperback-approval",
   "metadata": {},
   "outputs": [
    {
     "data": {
      "text/plain": [
       "(2, 5)"
      ]
     },
     "execution_count": 41,
     "metadata": {},
     "output_type": "execute_result"
    }
   ],
   "source": [
    "em.shape"
   ]
  },
  {
   "cell_type": "code",
   "execution_count": 42,
   "id": "defensive-joshua",
   "metadata": {},
   "outputs": [],
   "source": [
    "arr3 = np.array([[8, 45, 33, 93, 49]])"
   ]
  },
  {
   "cell_type": "code",
   "execution_count": 43,
   "id": "structural-genius",
   "metadata": {},
   "outputs": [],
   "source": [
    "em = np.vstack((em, arr3))"
   ]
  },
  {
   "cell_type": "code",
   "execution_count": 44,
   "id": "greenhouse-myanmar",
   "metadata": {},
   "outputs": [
    {
     "data": {
      "text/plain": [
       "array([[ 1.,  2.,  3.,  9., 49.],\n",
       "       [ 4.,  5.,  6., 69., 12.],\n",
       "       [ 8., 45., 33., 93., 49.]])"
      ]
     },
     "execution_count": 44,
     "metadata": {},
     "output_type": "execute_result"
    }
   ],
   "source": [
    "em"
   ]
  },
  {
   "cell_type": "code",
   "execution_count": 72,
   "id": "removed-tourism",
   "metadata": {},
   "outputs": [],
   "source": [
    "root = np.array([2,.11,1,8])"
   ]
  },
  {
   "cell_type": "code",
   "execution_count": 73,
   "id": "valid-wireless",
   "metadata": {},
   "outputs": [
    {
     "data": {
      "text/plain": [
       "array([2.  , 0.11, 1.  , 8.  ])"
      ]
     },
     "execution_count": 73,
     "metadata": {},
     "output_type": "execute_result"
    }
   ],
   "source": [
    "root\n"
   ]
  },
  {
   "cell_type": "code",
   "execution_count": 74,
   "id": "enormous-nebraska",
   "metadata": {},
   "outputs": [
    {
     "data": {
      "text/plain": [
       "(4,)"
      ]
     },
     "execution_count": 74,
     "metadata": {},
     "output_type": "execute_result"
    }
   ],
   "source": [
    "root.shape"
   ]
  },
  {
   "cell_type": "code",
   "execution_count": 75,
   "id": "loose-japan",
   "metadata": {},
   "outputs": [],
   "source": [
    "root = np.vstack((root, [2,3,4,5],[4,5,6,7]))"
   ]
  },
  {
   "cell_type": "code",
   "execution_count": 76,
   "id": "dominant-adventure",
   "metadata": {},
   "outputs": [
    {
     "data": {
      "text/plain": [
       "array([[2.  , 0.11, 1.  , 8.  ],\n",
       "       [2.  , 3.  , 4.  , 5.  ],\n",
       "       [4.  , 5.  , 6.  , 7.  ]])"
      ]
     },
     "execution_count": 76,
     "metadata": {},
     "output_type": "execute_result"
    }
   ],
   "source": [
    "root"
   ]
  },
  {
   "cell_type": "code",
   "execution_count": 77,
   "id": "least-sensitivity",
   "metadata": {},
   "outputs": [
    {
     "data": {
      "text/plain": [
       "(3, 4)"
      ]
     },
     "execution_count": 77,
     "metadata": {},
     "output_type": "execute_result"
    }
   ],
   "source": [
    "root.shape"
   ]
  },
  {
   "cell_type": "code",
   "execution_count": 79,
   "id": "legal-sociology",
   "metadata": {},
   "outputs": [
    {
     "data": {
      "text/plain": [
       "array([[1, 2, 3],\n",
       "       [4, 5, 7]])"
      ]
     },
     "execution_count": 79,
     "metadata": {},
     "output_type": "execute_result"
    }
   ],
   "source": [
    "x = np.array([[1,2,3],[4,5,7]])\n",
    "x"
   ]
  },
  {
   "cell_type": "code",
   "execution_count": 80,
   "id": "instructional-store",
   "metadata": {},
   "outputs": [],
   "source": [
    "y = np.array([[2],[5]])"
   ]
  },
  {
   "cell_type": "code",
   "execution_count": 81,
   "id": "russian-infrastructure",
   "metadata": {
    "scrolled": true
   },
   "outputs": [
    {
     "data": {
      "text/plain": [
       "array([[2],\n",
       "       [5]])"
      ]
     },
     "execution_count": 81,
     "metadata": {},
     "output_type": "execute_result"
    }
   ],
   "source": [
    "y"
   ]
  },
  {
   "cell_type": "code",
   "execution_count": 82,
   "id": "specific-console",
   "metadata": {},
   "outputs": [],
   "source": [
    "data = np.append(x,y,axis=1)"
   ]
  },
  {
   "cell_type": "code",
   "execution_count": 83,
   "id": "smaller-liver",
   "metadata": {},
   "outputs": [
    {
     "data": {
      "text/plain": [
       "array([[1, 2, 3, 2],\n",
       "       [4, 5, 7, 5]])"
      ]
     },
     "execution_count": 83,
     "metadata": {},
     "output_type": "execute_result"
    }
   ],
   "source": [
    "data"
   ]
  },
  {
   "cell_type": "code",
   "execution_count": 133,
   "id": "loose-class",
   "metadata": {},
   "outputs": [
    {
     "data": {
      "text/plain": [
       "(30, 2)"
      ]
     },
     "execution_count": 133,
     "metadata": {},
     "output_type": "execute_result"
    }
   ],
   "source": [
    "c = np.zeros((30,2))\n",
    "c.shape"
   ]
  },
  {
   "cell_type": "code",
   "execution_count": 134,
   "id": "statistical-prayer",
   "metadata": {},
   "outputs": [
    {
     "data": {
      "text/plain": [
       "(30,)"
      ]
     },
     "execution_count": 134,
     "metadata": {},
     "output_type": "execute_result"
    }
   ],
   "source": [
    "b = np.zeros((30,))\n",
    "b.shape"
   ]
  },
  {
   "cell_type": "code",
   "execution_count": 135,
   "id": "victorian-airline",
   "metadata": {},
   "outputs": [
    {
     "data": {
      "text/plain": [
       "array([0., 0., 0., 0., 0., 0., 0., 0., 0., 0., 0., 0., 0., 0., 0., 0., 0.,\n",
       "       0., 0., 0., 0., 0., 0., 0., 0., 0., 0., 0., 0., 0.])"
      ]
     },
     "execution_count": 135,
     "metadata": {},
     "output_type": "execute_result"
    }
   ],
   "source": [
    "b"
   ]
  },
  {
   "cell_type": "code",
   "execution_count": 136,
   "id": "speaking-corporation",
   "metadata": {},
   "outputs": [
    {
     "data": {
      "text/plain": [
       "array([[0., 0.],\n",
       "       [0., 0.],\n",
       "       [0., 0.],\n",
       "       [0., 0.],\n",
       "       [0., 0.],\n",
       "       [0., 0.],\n",
       "       [0., 0.],\n",
       "       [0., 0.],\n",
       "       [0., 0.],\n",
       "       [0., 0.],\n",
       "       [0., 0.],\n",
       "       [0., 0.],\n",
       "       [0., 0.],\n",
       "       [0., 0.],\n",
       "       [0., 0.],\n",
       "       [0., 0.],\n",
       "       [0., 0.],\n",
       "       [0., 0.],\n",
       "       [0., 0.],\n",
       "       [0., 0.],\n",
       "       [0., 0.],\n",
       "       [0., 0.],\n",
       "       [0., 0.],\n",
       "       [0., 0.],\n",
       "       [0., 0.],\n",
       "       [0., 0.],\n",
       "       [0., 0.],\n",
       "       [0., 0.],\n",
       "       [0., 0.],\n",
       "       [0., 0.]])"
      ]
     },
     "execution_count": 136,
     "metadata": {},
     "output_type": "execute_result"
    }
   ],
   "source": [
    "c"
   ]
  },
  {
   "cell_type": "code",
   "execution_count": 137,
   "id": "national-pierre",
   "metadata": {},
   "outputs": [
    {
     "data": {
      "text/plain": [
       "(30,)"
      ]
     },
     "execution_count": 137,
     "metadata": {},
     "output_type": "execute_result"
    }
   ],
   "source": [
    "b.shape"
   ]
  },
  {
   "cell_type": "code",
   "execution_count": 138,
   "id": "violent-window",
   "metadata": {},
   "outputs": [
    {
     "data": {
      "text/plain": [
       "(30, 2)"
      ]
     },
     "execution_count": 138,
     "metadata": {},
     "output_type": "execute_result"
    }
   ],
   "source": [
    "c.shape"
   ]
  },
  {
   "cell_type": "code",
   "execution_count": 118,
   "id": "exciting-costume",
   "metadata": {},
   "outputs": [
    {
     "data": {
      "text/plain": [
       "array([0., 0., 0., 0., 0., 0., 0., 0., 0., 0., 0., 0., 0., 0., 0., 0., 0.,\n",
       "       0., 0., 0., 0., 0., 0., 0., 0., 0., 0., 0., 0., 0.])"
      ]
     },
     "execution_count": 118,
     "metadata": {},
     "output_type": "execute_result"
    }
   ],
   "source": []
  },
  {
   "cell_type": "code",
   "execution_count": 121,
   "id": "superior-prototype",
   "metadata": {},
   "outputs": [
    {
     "data": {
      "text/html": [
       "<div>\n",
       "<style scoped>\n",
       "    .dataframe tbody tr th:only-of-type {\n",
       "        vertical-align: middle;\n",
       "    }\n",
       "\n",
       "    .dataframe tbody tr th {\n",
       "        vertical-align: top;\n",
       "    }\n",
       "\n",
       "    .dataframe thead th {\n",
       "        text-align: right;\n",
       "    }\n",
       "</style>\n",
       "<table border=\"1\" class=\"dataframe\">\n",
       "  <thead>\n",
       "    <tr style=\"text-align: right;\">\n",
       "      <th></th>\n",
       "      <th>0</th>\n",
       "    </tr>\n",
       "  </thead>\n",
       "  <tbody>\n",
       "    <tr>\n",
       "      <th>0</th>\n",
       "      <td>0.0</td>\n",
       "    </tr>\n",
       "    <tr>\n",
       "      <th>1</th>\n",
       "      <td>0.0</td>\n",
       "    </tr>\n",
       "    <tr>\n",
       "      <th>2</th>\n",
       "      <td>0.0</td>\n",
       "    </tr>\n",
       "    <tr>\n",
       "      <th>3</th>\n",
       "      <td>0.0</td>\n",
       "    </tr>\n",
       "    <tr>\n",
       "      <th>4</th>\n",
       "      <td>0.0</td>\n",
       "    </tr>\n",
       "    <tr>\n",
       "      <th>5</th>\n",
       "      <td>0.0</td>\n",
       "    </tr>\n",
       "    <tr>\n",
       "      <th>6</th>\n",
       "      <td>0.0</td>\n",
       "    </tr>\n",
       "    <tr>\n",
       "      <th>7</th>\n",
       "      <td>0.0</td>\n",
       "    </tr>\n",
       "    <tr>\n",
       "      <th>8</th>\n",
       "      <td>0.0</td>\n",
       "    </tr>\n",
       "    <tr>\n",
       "      <th>9</th>\n",
       "      <td>0.0</td>\n",
       "    </tr>\n",
       "    <tr>\n",
       "      <th>10</th>\n",
       "      <td>0.0</td>\n",
       "    </tr>\n",
       "    <tr>\n",
       "      <th>11</th>\n",
       "      <td>0.0</td>\n",
       "    </tr>\n",
       "    <tr>\n",
       "      <th>12</th>\n",
       "      <td>0.0</td>\n",
       "    </tr>\n",
       "    <tr>\n",
       "      <th>13</th>\n",
       "      <td>0.0</td>\n",
       "    </tr>\n",
       "    <tr>\n",
       "      <th>14</th>\n",
       "      <td>0.0</td>\n",
       "    </tr>\n",
       "    <tr>\n",
       "      <th>15</th>\n",
       "      <td>0.0</td>\n",
       "    </tr>\n",
       "    <tr>\n",
       "      <th>16</th>\n",
       "      <td>0.0</td>\n",
       "    </tr>\n",
       "    <tr>\n",
       "      <th>17</th>\n",
       "      <td>0.0</td>\n",
       "    </tr>\n",
       "    <tr>\n",
       "      <th>18</th>\n",
       "      <td>0.0</td>\n",
       "    </tr>\n",
       "    <tr>\n",
       "      <th>19</th>\n",
       "      <td>0.0</td>\n",
       "    </tr>\n",
       "    <tr>\n",
       "      <th>20</th>\n",
       "      <td>0.0</td>\n",
       "    </tr>\n",
       "    <tr>\n",
       "      <th>21</th>\n",
       "      <td>0.0</td>\n",
       "    </tr>\n",
       "    <tr>\n",
       "      <th>22</th>\n",
       "      <td>0.0</td>\n",
       "    </tr>\n",
       "    <tr>\n",
       "      <th>23</th>\n",
       "      <td>0.0</td>\n",
       "    </tr>\n",
       "    <tr>\n",
       "      <th>24</th>\n",
       "      <td>0.0</td>\n",
       "    </tr>\n",
       "    <tr>\n",
       "      <th>25</th>\n",
       "      <td>0.0</td>\n",
       "    </tr>\n",
       "    <tr>\n",
       "      <th>26</th>\n",
       "      <td>0.0</td>\n",
       "    </tr>\n",
       "    <tr>\n",
       "      <th>27</th>\n",
       "      <td>0.0</td>\n",
       "    </tr>\n",
       "    <tr>\n",
       "      <th>28</th>\n",
       "      <td>0.0</td>\n",
       "    </tr>\n",
       "    <tr>\n",
       "      <th>29</th>\n",
       "      <td>0.0</td>\n",
       "    </tr>\n",
       "  </tbody>\n",
       "</table>\n",
       "</div>"
      ],
      "text/plain": [
       "      0\n",
       "0   0.0\n",
       "1   0.0\n",
       "2   0.0\n",
       "3   0.0\n",
       "4   0.0\n",
       "5   0.0\n",
       "6   0.0\n",
       "7   0.0\n",
       "8   0.0\n",
       "9   0.0\n",
       "10  0.0\n",
       "11  0.0\n",
       "12  0.0\n",
       "13  0.0\n",
       "14  0.0\n",
       "15  0.0\n",
       "16  0.0\n",
       "17  0.0\n",
       "18  0.0\n",
       "19  0.0\n",
       "20  0.0\n",
       "21  0.0\n",
       "22  0.0\n",
       "23  0.0\n",
       "24  0.0\n",
       "25  0.0\n",
       "26  0.0\n",
       "27  0.0\n",
       "28  0.0\n",
       "29  0.0"
      ]
     },
     "execution_count": 121,
     "metadata": {},
     "output_type": "execute_result"
    }
   ],
   "source": [
    "df = pd.DataFrame(b)\n",
    "df"
   ]
  },
  {
   "cell_type": "code",
   "execution_count": 139,
   "id": "danish-farming",
   "metadata": {},
   "outputs": [
    {
     "ename": "ValueError",
     "evalue": "all the input arrays must have same number of dimensions, but the array at index 0 has 2 dimension(s) and the array at index 1 has 1 dimension(s)",
     "output_type": "error",
     "traceback": [
      "\u001b[0;31m---------------------------------------------------------------------------\u001b[0m",
      "\u001b[0;31mValueError\u001b[0m                                Traceback (most recent call last)",
      "\u001b[0;32m<ipython-input-139-88199b830710>\u001b[0m in \u001b[0;36m<module>\u001b[0;34m\u001b[0m\n\u001b[0;32m----> 1\u001b[0;31m \u001b[0md\u001b[0m \u001b[0;34m=\u001b[0m \u001b[0mnp\u001b[0m\u001b[0;34m.\u001b[0m\u001b[0mappend\u001b[0m\u001b[0;34m(\u001b[0m\u001b[0mc\u001b[0m\u001b[0;34m,\u001b[0m\u001b[0mb\u001b[0m\u001b[0;34m,\u001b[0m\u001b[0;36m1\u001b[0m\u001b[0;34m)\u001b[0m\u001b[0;34m\u001b[0m\u001b[0;34m\u001b[0m\u001b[0m\n\u001b[0m",
      "\u001b[0;32m<__array_function__ internals>\u001b[0m in \u001b[0;36mappend\u001b[0;34m(*args, **kwargs)\u001b[0m\n",
      "\u001b[0;32m~/miniconda/envs/AssessProject/lib/python3.9/site-packages/numpy/lib/function_base.py\u001b[0m in \u001b[0;36mappend\u001b[0;34m(arr, values, axis)\u001b[0m\n\u001b[1;32m   4669\u001b[0m         \u001b[0mvalues\u001b[0m \u001b[0;34m=\u001b[0m \u001b[0mravel\u001b[0m\u001b[0;34m(\u001b[0m\u001b[0mvalues\u001b[0m\u001b[0;34m)\u001b[0m\u001b[0;34m\u001b[0m\u001b[0;34m\u001b[0m\u001b[0m\n\u001b[1;32m   4670\u001b[0m         \u001b[0maxis\u001b[0m \u001b[0;34m=\u001b[0m \u001b[0marr\u001b[0m\u001b[0;34m.\u001b[0m\u001b[0mndim\u001b[0m\u001b[0;34m-\u001b[0m\u001b[0;36m1\u001b[0m\u001b[0;34m\u001b[0m\u001b[0;34m\u001b[0m\u001b[0m\n\u001b[0;32m-> 4671\u001b[0;31m     \u001b[0;32mreturn\u001b[0m \u001b[0mconcatenate\u001b[0m\u001b[0;34m(\u001b[0m\u001b[0;34m(\u001b[0m\u001b[0marr\u001b[0m\u001b[0;34m,\u001b[0m \u001b[0mvalues\u001b[0m\u001b[0;34m)\u001b[0m\u001b[0;34m,\u001b[0m \u001b[0maxis\u001b[0m\u001b[0;34m=\u001b[0m\u001b[0maxis\u001b[0m\u001b[0;34m)\u001b[0m\u001b[0;34m\u001b[0m\u001b[0;34m\u001b[0m\u001b[0m\n\u001b[0m\u001b[1;32m   4672\u001b[0m \u001b[0;34m\u001b[0m\u001b[0m\n\u001b[1;32m   4673\u001b[0m \u001b[0;34m\u001b[0m\u001b[0m\n",
      "\u001b[0;32m<__array_function__ internals>\u001b[0m in \u001b[0;36mconcatenate\u001b[0;34m(*args, **kwargs)\u001b[0m\n",
      "\u001b[0;31mValueError\u001b[0m: all the input arrays must have same number of dimensions, but the array at index 0 has 2 dimension(s) and the array at index 1 has 1 dimension(s)"
     ]
    }
   ],
   "source": [
    "d = np.append(c,b,1)"
   ]
  },
  {
   "cell_type": "code",
   "execution_count": 123,
   "id": "computational-lecture",
   "metadata": {},
   "outputs": [
    {
     "data": {
      "text/plain": [
       "array([0., 0., 0., 0., 0., 0., 0., 0., 0., 0., 0., 0., 0., 0., 0., 0., 0.,\n",
       "       0., 0., 0., 0., 0., 0., 0., 0., 0., 0., 0., 0., 0., 0., 0., 0., 0.,\n",
       "       0., 0., 0., 0., 0., 0., 0., 0., 0., 0., 0., 0., 0., 0., 0., 0., 0.,\n",
       "       0., 0., 0., 0., 0., 0., 0., 0., 0., 0., 0., 0., 0., 0., 0., 0., 0.,\n",
       "       0., 0., 0., 0., 0., 0., 0., 0., 0., 0., 0., 0., 0., 0., 0., 0., 0.,\n",
       "       0., 0., 0., 0., 0.])"
      ]
     },
     "execution_count": 123,
     "metadata": {},
     "output_type": "execute_result"
    }
   ],
   "source": []
  },
  {
   "cell_type": "code",
   "execution_count": 132,
   "id": "musical-observation",
   "metadata": {},
   "outputs": [
    {
     "data": {
      "text/html": [
       "<div>\n",
       "<style scoped>\n",
       "    .dataframe tbody tr th:only-of-type {\n",
       "        vertical-align: middle;\n",
       "    }\n",
       "\n",
       "    .dataframe tbody tr th {\n",
       "        vertical-align: top;\n",
       "    }\n",
       "\n",
       "    .dataframe thead th {\n",
       "        text-align: right;\n",
       "    }\n",
       "</style>\n",
       "<table border=\"1\" class=\"dataframe\">\n",
       "  <thead>\n",
       "    <tr style=\"text-align: right;\">\n",
       "      <th></th>\n",
       "      <th>0</th>\n",
       "    </tr>\n",
       "  </thead>\n",
       "  <tbody>\n",
       "    <tr>\n",
       "      <th>0</th>\n",
       "      <td>0.0</td>\n",
       "    </tr>\n",
       "    <tr>\n",
       "      <th>1</th>\n",
       "      <td>0.0</td>\n",
       "    </tr>\n",
       "    <tr>\n",
       "      <th>2</th>\n",
       "      <td>0.0</td>\n",
       "    </tr>\n",
       "    <tr>\n",
       "      <th>3</th>\n",
       "      <td>0.0</td>\n",
       "    </tr>\n",
       "    <tr>\n",
       "      <th>4</th>\n",
       "      <td>0.0</td>\n",
       "    </tr>\n",
       "    <tr>\n",
       "      <th>...</th>\n",
       "      <td>...</td>\n",
       "    </tr>\n",
       "    <tr>\n",
       "      <th>85</th>\n",
       "      <td>0.0</td>\n",
       "    </tr>\n",
       "    <tr>\n",
       "      <th>86</th>\n",
       "      <td>0.0</td>\n",
       "    </tr>\n",
       "    <tr>\n",
       "      <th>87</th>\n",
       "      <td>0.0</td>\n",
       "    </tr>\n",
       "    <tr>\n",
       "      <th>88</th>\n",
       "      <td>0.0</td>\n",
       "    </tr>\n",
       "    <tr>\n",
       "      <th>89</th>\n",
       "      <td>0.0</td>\n",
       "    </tr>\n",
       "  </tbody>\n",
       "</table>\n",
       "<p>90 rows × 1 columns</p>\n",
       "</div>"
      ],
      "text/plain": [
       "      0\n",
       "0   0.0\n",
       "1   0.0\n",
       "2   0.0\n",
       "3   0.0\n",
       "4   0.0\n",
       "..  ...\n",
       "85  0.0\n",
       "86  0.0\n",
       "87  0.0\n",
       "88  0.0\n",
       "89  0.0\n",
       "\n",
       "[90 rows x 1 columns]"
      ]
     },
     "execution_count": 132,
     "metadata": {},
     "output_type": "execute_result"
    }
   ],
   "source": [
    "df = pd.DataFrame(d)\n",
    "df"
   ]
  },
  {
   "cell_type": "code",
   "execution_count": 140,
   "id": "exact-winner",
   "metadata": {},
   "outputs": [
    {
     "data": {
      "text/plain": [
       "array([0., 0., 0., 0., 0., 0., 0., 0., 0., 0., 0., 0., 0., 0., 0., 0., 0.,\n",
       "       0., 0., 0., 0., 0., 0., 0., 0., 0., 0., 0., 0., 0.])"
      ]
     },
     "execution_count": 140,
     "metadata": {},
     "output_type": "execute_result"
    }
   ],
   "source": [
    "b"
   ]
  },
  {
   "cell_type": "code",
   "execution_count": 141,
   "id": "acting-blackberry",
   "metadata": {},
   "outputs": [
    {
     "data": {
      "text/plain": [
       "array([[0., 0.],\n",
       "       [0., 0.],\n",
       "       [0., 0.],\n",
       "       [0., 0.],\n",
       "       [0., 0.],\n",
       "       [0., 0.],\n",
       "       [0., 0.],\n",
       "       [0., 0.],\n",
       "       [0., 0.],\n",
       "       [0., 0.],\n",
       "       [0., 0.],\n",
       "       [0., 0.],\n",
       "       [0., 0.],\n",
       "       [0., 0.],\n",
       "       [0., 0.],\n",
       "       [0., 0.],\n",
       "       [0., 0.],\n",
       "       [0., 0.],\n",
       "       [0., 0.],\n",
       "       [0., 0.],\n",
       "       [0., 0.],\n",
       "       [0., 0.],\n",
       "       [0., 0.],\n",
       "       [0., 0.],\n",
       "       [0., 0.],\n",
       "       [0., 0.],\n",
       "       [0., 0.],\n",
       "       [0., 0.],\n",
       "       [0., 0.],\n",
       "       [0., 0.]])"
      ]
     },
     "execution_count": 141,
     "metadata": {},
     "output_type": "execute_result"
    }
   ],
   "source": [
    "c"
   ]
  },
  {
   "cell_type": "code",
   "execution_count": 142,
   "id": "invalid-azerbaijan",
   "metadata": {},
   "outputs": [],
   "source": [
    "d = np.column_stack((b,c))"
   ]
  },
  {
   "cell_type": "code",
   "execution_count": 143,
   "id": "aerial-beads",
   "metadata": {},
   "outputs": [
    {
     "data": {
      "text/plain": [
       "array([[0., 0., 0.],\n",
       "       [0., 0., 0.],\n",
       "       [0., 0., 0.],\n",
       "       [0., 0., 0.],\n",
       "       [0., 0., 0.],\n",
       "       [0., 0., 0.],\n",
       "       [0., 0., 0.],\n",
       "       [0., 0., 0.],\n",
       "       [0., 0., 0.],\n",
       "       [0., 0., 0.],\n",
       "       [0., 0., 0.],\n",
       "       [0., 0., 0.],\n",
       "       [0., 0., 0.],\n",
       "       [0., 0., 0.],\n",
       "       [0., 0., 0.],\n",
       "       [0., 0., 0.],\n",
       "       [0., 0., 0.],\n",
       "       [0., 0., 0.],\n",
       "       [0., 0., 0.],\n",
       "       [0., 0., 0.],\n",
       "       [0., 0., 0.],\n",
       "       [0., 0., 0.],\n",
       "       [0., 0., 0.],\n",
       "       [0., 0., 0.],\n",
       "       [0., 0., 0.],\n",
       "       [0., 0., 0.],\n",
       "       [0., 0., 0.],\n",
       "       [0., 0., 0.],\n",
       "       [0., 0., 0.],\n",
       "       [0., 0., 0.]])"
      ]
     },
     "execution_count": 143,
     "metadata": {},
     "output_type": "execute_result"
    }
   ],
   "source": [
    "d"
   ]
  },
  {
   "cell_type": "code",
   "execution_count": 158,
   "id": "sophisticated-hunger",
   "metadata": {},
   "outputs": [
    {
     "data": {
      "text/plain": [
       "array([], dtype=float64)"
      ]
     },
     "execution_count": 158,
     "metadata": {},
     "output_type": "execute_result"
    }
   ],
   "source": [
    "y = np.empty(0)\n",
    "y"
   ]
  },
  {
   "cell_type": "code",
   "execution_count": 159,
   "id": "dirty-theta",
   "metadata": {},
   "outputs": [],
   "source": [
    "y = np.append(y, 1)"
   ]
  },
  {
   "cell_type": "code",
   "execution_count": 160,
   "id": "finished-repeat",
   "metadata": {},
   "outputs": [
    {
     "data": {
      "text/plain": [
       "array([1.])"
      ]
     },
     "execution_count": 160,
     "metadata": {},
     "output_type": "execute_result"
    }
   ],
   "source": [
    "y"
   ]
  },
  {
   "cell_type": "code",
   "execution_count": 161,
   "id": "alien-sharing",
   "metadata": {},
   "outputs": [],
   "source": [
    "y = np.append(y, 9)"
   ]
  },
  {
   "cell_type": "code",
   "execution_count": 162,
   "id": "informed-pacific",
   "metadata": {},
   "outputs": [
    {
     "data": {
      "text/plain": [
       "array([1., 9.])"
      ]
     },
     "execution_count": 162,
     "metadata": {},
     "output_type": "execute_result"
    }
   ],
   "source": [
    "y"
   ]
  },
  {
   "cell_type": "code",
   "execution_count": 163,
   "id": "auburn-laugh",
   "metadata": {},
   "outputs": [
    {
     "data": {
      "text/plain": [
       "nan"
      ]
     },
     "execution_count": 163,
     "metadata": {},
     "output_type": "execute_result"
    }
   ],
   "source": [
    "a = np.NAN\n",
    "a"
   ]
  },
  {
   "cell_type": "code",
   "execution_count": 164,
   "id": "colonial-feedback",
   "metadata": {},
   "outputs": [
    {
     "data": {
      "text/plain": [
       "False"
      ]
     },
     "execution_count": 164,
     "metadata": {},
     "output_type": "execute_result"
    }
   ],
   "source": [
    "a == np.NAN"
   ]
  },
  {
   "cell_type": "code",
   "execution_count": 165,
   "id": "copyrighted-fashion",
   "metadata": {},
   "outputs": [
    {
     "data": {
      "text/plain": [
       "True"
      ]
     },
     "execution_count": 165,
     "metadata": {},
     "output_type": "execute_result"
    }
   ],
   "source": [
    "a is np.NAN"
   ]
  },
  {
   "cell_type": "code",
   "execution_count": 166,
   "id": "regular-translator",
   "metadata": {},
   "outputs": [
    {
     "data": {
      "text/plain": [
       "1"
      ]
     },
     "execution_count": 166,
     "metadata": {},
     "output_type": "execute_result"
    }
   ],
   "source": [
    "a = np.array([1])\n",
    "a[0]"
   ]
  },
  {
   "cell_type": "code",
   "execution_count": 167,
   "id": "regulation-puppy",
   "metadata": {},
   "outputs": [
    {
     "data": {
      "text/plain": [
       "False"
      ]
     },
     "execution_count": 167,
     "metadata": {},
     "output_type": "execute_result"
    }
   ],
   "source": [
    "a[0] is np.NAN"
   ]
  },
  {
   "cell_type": "code",
   "execution_count": 168,
   "id": "false-daniel",
   "metadata": {},
   "outputs": [
    {
     "data": {
      "text/plain": [
       "array([[ 0.03575371,  0.03837619, -0.00467931, ...,  0.03119023,\n",
       "         0.01269804,  0.02852446],\n",
       "       [ 0.02542587,  0.03181274,  0.00778674, ...,  0.01891958,\n",
       "         0.01134065,  0.00877264],\n",
       "       [-0.02886173, -0.02635297, -0.03046913, ..., -0.03589858,\n",
       "        -0.0170728 , -0.02001541],\n",
       "       ...,\n",
       "       [ 0.00019097, -0.0016526 ,  0.00192291, ...,  0.00562792,\n",
       "         0.00057157,  0.00693787],\n",
       "       [-0.01306904, -0.01370599, -0.02074215, ..., -0.01194168,\n",
       "        -0.01261533, -0.00095774],\n",
       "       [-0.00724632, -0.01944185,  0.        , ..., -0.01225155,\n",
       "        -0.00546489, -0.01429693]])"
      ]
     },
     "execution_count": 168,
     "metadata": {},
     "output_type": "execute_result"
    }
   ],
   "source": [
    "arr"
   ]
  },
  {
   "cell_type": "code",
   "execution_count": 169,
   "id": "funded-ireland",
   "metadata": {},
   "outputs": [
    {
     "data": {
      "text/plain": [
       "(536, 9)"
      ]
     },
     "execution_count": 169,
     "metadata": {},
     "output_type": "execute_result"
    }
   ],
   "source": [
    "arr.shape"
   ]
  },
  {
   "cell_type": "code",
   "execution_count": 171,
   "id": "suffering-imaging",
   "metadata": {},
   "outputs": [
    {
     "data": {
      "text/plain": [
       "536"
      ]
     },
     "execution_count": 171,
     "metadata": {},
     "output_type": "execute_result"
    }
   ],
   "source": [
    "len(arr[:,4])"
   ]
  },
  {
   "cell_type": "code",
   "execution_count": 173,
   "id": "nutritional-armstrong",
   "metadata": {},
   "outputs": [
    {
     "data": {
      "text/plain": [
       "0.0009359355858208956"
      ]
     },
     "execution_count": 173,
     "metadata": {},
     "output_type": "execute_result"
    }
   ],
   "source": [
    "np.mean(arr[:,-1])"
   ]
  },
  {
   "cell_type": "code",
   "execution_count": 175,
   "id": "authorized-march",
   "metadata": {},
   "outputs": [
    {
     "data": {
      "text/plain": [
       "(536, 9)"
      ]
     },
     "execution_count": 175,
     "metadata": {},
     "output_type": "execute_result"
    }
   ],
   "source": [
    "z = np.empty_like(arr)\n",
    "z.shape"
   ]
  },
  {
   "cell_type": "code",
   "execution_count": 176,
   "id": "australian-worthy",
   "metadata": {},
   "outputs": [],
   "source": [
    "z[:] = arr"
   ]
  },
  {
   "cell_type": "code",
   "execution_count": 177,
   "id": "funky-generation",
   "metadata": {},
   "outputs": [
    {
     "data": {
      "text/plain": [
       "array([[ 0.03575371,  0.03837619, -0.00467931, ...,  0.03119023,\n",
       "         0.01269804,  0.02852446],\n",
       "       [ 0.02542587,  0.03181274,  0.00778674, ...,  0.01891958,\n",
       "         0.01134065,  0.00877264],\n",
       "       [-0.02886173, -0.02635297, -0.03046913, ..., -0.03589858,\n",
       "        -0.0170728 , -0.02001541],\n",
       "       ...,\n",
       "       [ 0.00019097, -0.0016526 ,  0.00192291, ...,  0.00562792,\n",
       "         0.00057157,  0.00693787],\n",
       "       [-0.01306904, -0.01370599, -0.02074215, ..., -0.01194168,\n",
       "        -0.01261533, -0.00095774],\n",
       "       [-0.00724632, -0.01944185,  0.        , ..., -0.01225155,\n",
       "        -0.00546489, -0.01429693]])"
      ]
     },
     "execution_count": 177,
     "metadata": {},
     "output_type": "execute_result"
    }
   ],
   "source": [
    "z"
   ]
  },
  {
   "cell_type": "code",
   "execution_count": 178,
   "id": "dynamic-enemy",
   "metadata": {},
   "outputs": [
    {
     "data": {
      "text/plain": [
       "(536, 9)"
      ]
     },
     "execution_count": 178,
     "metadata": {},
     "output_type": "execute_result"
    }
   ],
   "source": [
    "z.shape"
   ]
  },
  {
   "cell_type": "code",
   "execution_count": 180,
   "id": "generous-craft",
   "metadata": {},
   "outputs": [
    {
     "data": {
      "text/plain": [
       "(536, 8)"
      ]
     },
     "execution_count": 180,
     "metadata": {},
     "output_type": "execute_result"
    }
   ],
   "source": [
    "np.delete(z, 3, 1).shape"
   ]
  },
  {
   "cell_type": "code",
   "execution_count": 181,
   "id": "minor-matrix",
   "metadata": {},
   "outputs": [],
   "source": [
    "a = np.array([np.NAN, 1, np.NAN, np.NAN])"
   ]
  },
  {
   "cell_type": "code",
   "execution_count": 182,
   "id": "impaired-exhaust",
   "metadata": {},
   "outputs": [
    {
     "data": {
      "text/plain": [
       "array([nan,  1., nan, nan])"
      ]
     },
     "execution_count": 182,
     "metadata": {},
     "output_type": "execute_result"
    }
   ],
   "source": [
    "a"
   ]
  },
  {
   "cell_type": "code",
   "execution_count": 184,
   "id": "premium-anxiety",
   "metadata": {},
   "outputs": [
    {
     "data": {
      "text/plain": [
       "(4,)"
      ]
     },
     "execution_count": 184,
     "metadata": {},
     "output_type": "execute_result"
    }
   ],
   "source": [
    "a.shape"
   ]
  },
  {
   "cell_type": "code",
   "execution_count": 185,
   "id": "moral-dominant",
   "metadata": {},
   "outputs": [],
   "source": [
    "a = np.array([[np.NAN, 1, np.NAN, np.NAN]])"
   ]
  },
  {
   "cell_type": "code",
   "execution_count": 186,
   "id": "downtown-bulgaria",
   "metadata": {},
   "outputs": [
    {
     "data": {
      "text/plain": [
       "(1, 4)"
      ]
     },
     "execution_count": 186,
     "metadata": {},
     "output_type": "execute_result"
    }
   ],
   "source": [
    "a.shape"
   ]
  },
  {
   "cell_type": "code",
   "execution_count": 187,
   "id": "assigned-richardson",
   "metadata": {},
   "outputs": [
    {
     "data": {
      "text/plain": [
       "array([1, 2, 3, 4, 5])"
      ]
     },
     "execution_count": 187,
     "metadata": {},
     "output_type": "execute_result"
    }
   ],
   "source": [
    "a = np.array([1,2,3,4,5])\n",
    "a"
   ]
  },
  {
   "cell_type": "code",
   "execution_count": 191,
   "id": "upset-nevada",
   "metadata": {},
   "outputs": [
    {
     "data": {
      "text/plain": [
       "5.5"
      ]
     },
     "execution_count": 191,
     "metadata": {},
     "output_type": "execute_result"
    }
   ],
   "source": [
    "np.median(a)"
   ]
  },
  {
   "cell_type": "code",
   "execution_count": 189,
   "id": "reported-search",
   "metadata": {},
   "outputs": [
    {
     "data": {
      "text/plain": [
       "(5,)"
      ]
     },
     "execution_count": 189,
     "metadata": {},
     "output_type": "execute_result"
    }
   ],
   "source": [
    "a.shape"
   ]
  },
  {
   "cell_type": "code",
   "execution_count": 190,
   "id": "roman-multimedia",
   "metadata": {},
   "outputs": [],
   "source": [
    "a = np.array([6,5,6,5,6,5,6,5,6,5,6,5])"
   ]
  },
  {
   "cell_type": "code",
   "execution_count": 192,
   "id": "straight-bradley",
   "metadata": {},
   "outputs": [
    {
     "data": {
      "text/plain": [
       "array([[ 0.03575371,  0.03837619, -0.00467931, ...,  0.03119023,\n",
       "         0.01269804,  0.02852446],\n",
       "       [ 0.02542587,  0.03181274,  0.00778674, ...,  0.01891958,\n",
       "         0.01134065,  0.00877264],\n",
       "       [-0.02886173, -0.02635297, -0.03046913, ..., -0.03589858,\n",
       "        -0.0170728 , -0.02001541],\n",
       "       ...,\n",
       "       [ 0.00019097, -0.0016526 ,  0.00192291, ...,  0.00562792,\n",
       "         0.00057157,  0.00693787],\n",
       "       [-0.01306904, -0.01370599, -0.02074215, ..., -0.01194168,\n",
       "        -0.01261533, -0.00095774],\n",
       "       [-0.00724632, -0.01944185,  0.        , ..., -0.01225155,\n",
       "        -0.00546489, -0.01429693]])"
      ]
     },
     "execution_count": 192,
     "metadata": {},
     "output_type": "execute_result"
    }
   ],
   "source": [
    "arr"
   ]
  },
  {
   "cell_type": "code",
   "execution_count": 193,
   "id": "related-series",
   "metadata": {},
   "outputs": [
    {
     "data": {
      "text/plain": [
       "(536, 9)"
      ]
     },
     "execution_count": 193,
     "metadata": {},
     "output_type": "execute_result"
    }
   ],
   "source": [
    "arr.shape"
   ]
  },
  {
   "cell_type": "code",
   "execution_count": 195,
   "id": "organized-grocery",
   "metadata": {},
   "outputs": [
    {
     "data": {
      "text/plain": [
       "9"
      ]
     },
     "execution_count": 195,
     "metadata": {},
     "output_type": "execute_result"
    }
   ],
   "source": [
    "b = arr.shape[1]\n",
    "b"
   ]
  },
  {
   "cell_type": "code",
   "execution_count": 202,
   "id": "ideal-homeless",
   "metadata": {},
   "outputs": [
    {
     "data": {
      "text/plain": [
       "3"
      ]
     },
     "execution_count": 202,
     "metadata": {},
     "output_type": "execute_result"
    }
   ],
   "source": [
    "np.random.randint(low=0,high=9)"
   ]
  },
  {
   "cell_type": "code",
   "execution_count": 204,
   "id": "understood-cancellation",
   "metadata": {},
   "outputs": [
    {
     "data": {
      "text/plain": [
       "array([ 2.8524462e-02,  8.7726440e-03, -2.0015412e-02, -1.9423778e-02,\n",
       "       -7.8022120e-03, -2.2629745e-02, -4.8271380e-03, -8.6766460e-03,\n",
       "       -2.3428729e-02,  1.0916893e-02, -4.0290040e-03, -2.4107193e-02,\n",
       "       -5.0922420e-03, -3.2272490e-03, -8.0773190e-03,  1.0319685e-02,\n",
       "        6.3444980e-03,  2.2104103e-02,  4.0869700e-04,  2.2425390e-03,\n",
       "       -1.9091385e-02,  1.2718686e-02,  1.5165589e-02,  2.0725050e-03,\n",
       "        3.2338114e-02,  7.8953940e-03, -2.1390950e-03, -7.9259970e-03,\n",
       "       -1.4772748e-02,  1.7764444e-02, -6.8504410e-03, -3.8322771e-02,\n",
       "       -3.3422610e-03,  6.7644980e-03, -2.7294442e-02,  9.6778700e-03,\n",
       "       -1.1881112e-02,  6.0993640e-03, -2.3311640e-03, -6.1501310e-03,\n",
       "       -3.5364882e-02,  1.2903070e-03,  3.0311506e-02, -8.6718380e-03,\n",
       "       -2.0976470e-03, -5.5583640e-03,  2.4909954e-02,  1.2815720e-02,\n",
       "        5.4194750e-03,  1.8689238e-02,  1.0253879e-02,  2.6886910e-03,\n",
       "        6.0125060e-03,  9.8472740e-03, -6.6543520e-03,  4.4121571e-02,\n",
       "        2.2960450e-03,  8.3096520e-03,  1.6417645e-02, -6.7308610e-03,\n",
       "       -3.8564463e-02,  7.8342210e-03,  1.5339491e-02,  3.8506193e-02,\n",
       "        4.3115210e-03,  4.1919310e-03, -5.5658620e-03, -7.5010840e-03,\n",
       "        2.7695855e-02,  5.3859960e-03,  5.8796360e-03,  7.4141130e-03,\n",
       "        2.7112800e-03,  2.4386900e-03, -5.5259220e-03, -8.3578480e-03,\n",
       "       -7.2765740e-03, -9.6667200e-04,  2.2915147e-02, -1.8736720e-02,\n",
       "       -1.3223984e-02,  2.5812429e-02,  1.6444765e-02,  4.7804531e-02,\n",
       "        4.0358260e-03,  1.1737376e-02, -2.4674100e-03,  1.0330863e-02,\n",
       "       -5.5793550e-03, -2.2450180e-03, -1.0673606e-02, -1.1305019e-02,\n",
       "        8.1604910e-03,  2.7348038e-02,  2.3405287e-02, -1.7031881e-02,\n",
       "        2.1300800e-03,  8.4148300e-04, -5.3314990e-03,  1.6360679e-02,\n",
       "        8.5828940e-03,  7.7607510e-03,  2.9978301e-02, -6.6305410e-03,\n",
       "       -1.3026704e-02, -1.2836520e-03,  7.1952010e-03, -1.0536916e-02,\n",
       "       -5.1488880e-03,  1.9623396e-02,  2.8885940e-03, -2.1802220e-03,\n",
       "       -2.1109333e-02, -9.4526940e-03, -1.3276347e-02, -9.8276680e-03,\n",
       "        7.5049720e-03, -1.1895017e-02, -1.4676581e-02,  1.6991546e-02,\n",
       "        1.3359036e-02,  9.8960250e-03,  3.0092710e-03, -6.9320940e-03,\n",
       "        1.1049660e-02, -4.8370230e-03,  8.6407400e-04, -1.3954751e-02,\n",
       "       -2.3886980e-03, -7.9451760e-03,  3.5460830e-03, -3.4568860e-03,\n",
       "       -1.3401351e-02,  1.6832183e-02,  2.7435226e-02,  6.0221860e-03,\n",
       "        1.0282347e-02,  2.3092409e-02,  1.5261310e-03, -4.7101160e-03,\n",
       "        1.6398626e-02,  3.7121470e-03,  9.2793970e-03,  3.4953230e-03,\n",
       "       -1.3102375e-02,  1.0000404e-02,  1.0755726e-02,  1.6159052e-02,\n",
       "       -3.3486350e-03, -4.8601920e-03,  1.6241730e-03, -2.6214740e-03,\n",
       "        4.1962700e-03, -6.1165710e-03, -6.3977620e-03,  1.3275554e-02,\n",
       "       -1.4268940e-03, -2.9772410e-02,  2.8530290e-03, -3.3500040e-03,\n",
       "        1.3296568e-02,  6.8128720e-03,  1.6065598e-02, -1.4647000e-03,\n",
       "       -1.9992120e-03, -6.4736570e-03,  5.0249770e-03, -1.2832464e-02,\n",
       "        3.5967360e-03, -8.3209490e-03,  8.1171620e-03,  9.7020450e-03,\n",
       "        1.0025827e-02,  1.3928806e-02, -2.7460530e-03,  9.2336710e-03,\n",
       "        3.6062540e-03, -8.4051980e-03,  8.3231680e-03,  1.5813252e-02,\n",
       "        5.7615810e-03,  4.1240200e-04, -4.0044960e-03, -1.0152977e-02,\n",
       "       -5.9241000e-04, -3.1916720e-03,  8.9619240e-03, -7.4382300e-04,\n",
       "       -3.2330470e-03, -8.7413000e-03,  1.9919380e-03,  1.3076211e-02,\n",
       "        4.2959810e-03,  7.6959800e-03,  6.1762620e-03,  4.3436610e-03,\n",
       "        4.4800000e-05,  1.6426627e-02,  1.7767090e-03, -6.1992400e-03,\n",
       "        1.0830679e-02, -3.2481570e-03, -2.4971660e-03, -5.0116150e-03,\n",
       "        3.9199970e-03,  2.5568600e-04, -1.4859632e-02, -2.5950650e-02,\n",
       "       -6.0250000e-03, -1.5357580e-03, -7.3530450e-03,  1.8558259e-02,\n",
       "        2.3635800e-03,  4.1299330e-03,  1.7839994e-02,  4.4110330e-03,\n",
       "        7.9785840e-03, -1.0681845e-02,  2.9166710e-03,  1.5692940e-02,\n",
       "        9.1743700e-04, -1.7843460e-03, -5.4479130e-03, -3.1167930e-03,\n",
       "        7.9849550e-03, -4.3663850e-03,  4.2116320e-03, -4.4156350e-03,\n",
       "        5.9855340e-03,  3.0236680e-03, -7.4600000e-05,  4.0313700e-04,\n",
       "       -6.0069250e-03, -4.4785450e-03,  3.1913540e-03,  5.5243480e-03,\n",
       "        4.3251800e-03, -3.2269270e-03, -1.7441630e-03, -9.6051130e-03,\n",
       "       -3.6792240e-03, -3.7709280e-03,  9.2370220e-03,  7.8035150e-03,\n",
       "        4.7806220e-03,  3.4036900e-04,  4.1420790e-03, -1.9054200e-04,\n",
       "        3.4084900e-04,  6.8544900e-03,  8.3990100e-03,  8.0667400e-03,\n",
       "        5.3296200e-03, -6.3746550e-03,  1.2292530e-03,  5.4473720e-03,\n",
       "       -3.7292030e-03, -7.2634520e-03,  2.3126790e-03, -2.0564520e-03,\n",
       "        1.7253960e-03,  2.1186340e-03, -9.0507560e-03, -1.4855548e-02,\n",
       "       -1.2384604e-02, -4.1436340e-03, -1.7437655e-02, -7.2753560e-03,\n",
       "        1.0577309e-02, -6.3147580e-03,  1.8169170e-03,  1.1540040e-03,\n",
       "        1.1540842e-02, -1.9774104e-02, -2.7290000e-02, -3.8095340e-03,\n",
       "        1.2960538e-02,  3.3369980e-03,  1.1111300e-02, -2.3541580e-03,\n",
       "        2.2962930e-03,  5.9473440e-03,  1.0310325e-02, -2.3261620e-03,\n",
       "       -8.2352510e-03,  8.0188180e-03, -1.8261450e-03, -6.3946270e-03,\n",
       "       -6.9276620e-03,  7.7457930e-03,  1.1574976e-02,  8.2837400e-03,\n",
       "        3.7119960e-03, -4.0674710e-03,  1.0645201e-02,  9.7562690e-03,\n",
       "        1.2884320e-03,  2.8521830e-03, -2.2851290e-03,  2.8200000e-05,\n",
       "       -7.5400200e-03,  6.6789350e-03,  1.1753411e-02, -1.1850800e-04,\n",
       "       -1.7471530e-03, -5.9585800e-03,  2.0491520e-03, -2.8002300e-04,\n",
       "       -3.3200000e-05,  4.2335820e-03,  6.6570040e-03,  3.3224910e-03,\n",
       "       -1.5373990e-03,  1.3451580e-02,  1.2291910e-03,  4.4522190e-03,\n",
       "        2.9491780e-03,  3.1247760e-03, -3.6274600e-03,  3.9424230e-03,\n",
       "       -5.1791590e-03, -3.7993750e-03,  7.5073310e-03,  5.0800000e-06,\n",
       "       -1.2591087e-02, -1.5519306e-02,  8.9430000e-03,  2.5156980e-03,\n",
       "       -3.1796460e-03,  8.7683590e-03, -1.1889142e-02, -9.7229410e-03,\n",
       "        2.9710640e-03,  4.1646990e-03, -7.5868660e-03, -1.2506440e-02,\n",
       "       -1.3384167e-02, -1.3554059e-02, -1.4724997e-02,  2.5317649e-02,\n",
       "       -6.5663750e-03,  7.1674100e-03,  5.7799770e-03, -1.1049522e-02,\n",
       "       -1.3753547e-02, -2.4190640e-03, -3.6374727e-02,  1.1243900e-03,\n",
       "        5.1101200e-03, -2.7590293e-02,  2.1561990e-02,  1.7184219e-02,\n",
       "        7.1759840e-03,  1.1325081e-02, -1.5882222e-02,  3.4443050e-03,\n",
       "        1.1455399e-02, -6.2334920e-03, -1.5968381e-02,  7.2362900e-04,\n",
       "        1.7334000e-03,  1.0020454e-02,  8.7738700e-03,  7.8778990e-03,\n",
       "        7.1884070e-03,  3.3326110e-03,  2.6063710e-03,  2.1347840e-03,\n",
       "        1.7326939e-02, -6.9127940e-03, -2.0683450e-03, -6.7167060e-03,\n",
       "       -2.3107320e-03,  5.3971000e-04, -2.1032886e-02, -6.9621820e-03,\n",
       "       -6.8196750e-03,  5.1391700e-04, -9.2697400e-04,  1.5586943e-02,\n",
       "        9.8697900e-04,  7.5051030e-03,  8.6059120e-03,  2.2280340e-03,\n",
       "        3.9105110e-03,  3.6162720e-03, -4.8701610e-03, -6.4727790e-03,\n",
       "        1.0505200e-04,  7.1966940e-03,  8.8801240e-03,  6.1886300e-03,\n",
       "        7.3364150e-03,  2.3044610e-03,  2.0069690e-03,  7.7241700e-04,\n",
       "        1.4322710e-03, -3.2949770e-03,  1.5749215e-02, -2.4982590e-03,\n",
       "        1.5739900e-03, -6.4004900e-04, -1.8461390e-03,  3.6115270e-03,\n",
       "       -9.9664020e-03, -1.4113080e-02, -5.3188780e-03,  4.7252680e-03,\n",
       "        3.2664430e-03,  4.8058490e-03,  1.3057700e-04,  1.1387500e-03,\n",
       "       -2.4962440e-03, -1.4684600e-03, -9.7305800e-03, -9.6624370e-03,\n",
       "       -7.5537600e-04,  5.0807610e-03,  2.0054100e-03,  1.4404659e-02,\n",
       "        3.6541030e-03,  5.0497740e-03,  7.3140740e-03, -1.8965650e-03,\n",
       "       -3.6414650e-03,  2.2418509e-02,  1.6577500e-04,  3.3231940e-03,\n",
       "       -4.8825820e-03,  3.1067360e-03,  6.7711260e-03,  7.9196100e-04,\n",
       "        3.1816900e-04, -2.3788900e-04,  1.3771450e-03,  5.5335770e-03,\n",
       "       -9.6579000e-04,  6.1452590e-03,  3.5122100e-03,  5.1749240e-03,\n",
       "        4.9254640e-03,  3.4817820e-03,  4.9542630e-03, -5.2921310e-03,\n",
       "        9.7749700e-04,  3.2263810e-03, -4.0851440e-03,  1.1802246e-02,\n",
       "        5.0348550e-03, -3.1618030e-03, -5.2279740e-03, -6.0337200e-03,\n",
       "        4.4237500e-04,  4.9848670e-03,  8.9200000e-05,  6.8811870e-03,\n",
       "        2.8301170e-03, -1.0151847e-02,  1.4253551e-02,  4.6551600e-04,\n",
       "        5.9921720e-03,  1.0736761e-02,  4.1655550e-03,  3.1281960e-03,\n",
       "       -1.6442940e-03, -2.2212120e-03, -7.6525580e-03, -1.1377315e-02,\n",
       "       -1.4390760e-03, -1.8275090e-03, -1.5299989e-02,  5.5902220e-03,\n",
       "        3.6689700e-04, -9.0881370e-03,  5.4317200e-04, -4.9979130e-03,\n",
       "        1.5463595e-02,  1.1647698e-02,  2.1337190e-03,  2.9512060e-03,\n",
       "        1.0685240e-03, -7.6495490e-03,  9.6820700e-04, -8.9223600e-04,\n",
       "        5.1501310e-03,  2.9709050e-03, -5.4336990e-03, -5.2807880e-03,\n",
       "        3.6264230e-03, -3.5649930e-03,  9.4688990e-03,  1.3269800e-03,\n",
       "       -2.0793700e-04, -2.4748510e-03, -2.4166890e-03, -1.9552700e-04,\n",
       "        7.8614660e-03,  3.3135800e-03,  2.7893870e-03,  8.1676700e-03,\n",
       "        4.2387550e-03, -1.1801170e-03, -2.6460260e-03, -6.8197100e-03,\n",
       "       -6.7086800e-03,  4.7726140e-03,  1.1872228e-02, -2.1093220e-03,\n",
       "        2.3762000e-04, -4.5367070e-03,  2.4058770e-03,  1.0857680e-03,\n",
       "       -1.0442022e-02, -6.8535210e-03, -1.1447550e-03, -8.8548900e-04,\n",
       "        5.0185250e-03, -1.1489030e-03, -9.9119190e-03, -5.7887190e-03,\n",
       "        6.2238650e-03,  3.6313220e-03,  4.7605500e-04, -3.1849350e-03,\n",
       "       -3.3457200e-03, -4.4989940e-03, -1.4248555e-02, -1.4759632e-02,\n",
       "        3.9308820e-03,  1.3448054e-02, -1.4304470e-03,  3.0389860e-03,\n",
       "        1.0385850e-03,  6.9378730e-03, -9.5773600e-04, -1.4296931e-02])"
      ]
     },
     "execution_count": 204,
     "metadata": {},
     "output_type": "execute_result"
    }
   ],
   "source": [
    "arr[:,8]"
   ]
  },
  {
   "cell_type": "code",
   "execution_count": null,
   "id": "covered-mouth",
   "metadata": {},
   "outputs": [],
   "source": []
  }
 ],
 "metadata": {
  "kernelspec": {
   "display_name": "Python 3",
   "language": "python",
   "name": "python3"
  },
  "language_info": {
   "codemirror_mode": {
    "name": "ipython",
    "version": 3
   },
   "file_extension": ".py",
   "mimetype": "text/x-python",
   "name": "python",
   "nbconvert_exporter": "python",
   "pygments_lexer": "ipython3",
   "version": "3.9.1"
  }
 },
 "nbformat": 4,
 "nbformat_minor": 5
}
