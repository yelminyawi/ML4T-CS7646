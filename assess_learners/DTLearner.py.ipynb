{
 "cells": [
  {
   "cell_type": "code",
   "execution_count": 1,
   "id": "fallen-collapse",
   "metadata": {},
   "outputs": [],
   "source": [
    "import pandas as pd\n",
    "import numpy as np"
   ]
  },
  {
   "cell_type": "code",
   "execution_count": 2,
   "id": "super-frank",
   "metadata": {},
   "outputs": [],
   "source": [
    "class DTLearner:\n",
    "    def __init__(leaf_size = 1, verbose = False):\n",
    "        self.leaf_size = leaf_size\n",
    "        self.verbose = verbose\n",
    "        pass\n",
    "    def train(x,y):\n",
    "        pass\n",
    "    def query(x):\n",
    "        pass"
   ]
  },
  {
   "cell_type": "code",
   "execution_count": 3,
   "id": "elder-nickname",
   "metadata": {},
   "outputs": [],
   "source": [
    "df = pd.read_csv('Data/Istanbul.csv', header = None, skiprows=1)  \n",
    "df = df.drop(columns=0)"
   ]
  },
  {
   "cell_type": "code",
   "execution_count": 4,
   "id": "smaller-genealogy",
   "metadata": {},
   "outputs": [
    {
     "data": {
      "text/html": [
       "<div>\n",
       "<style scoped>\n",
       "    .dataframe tbody tr th:only-of-type {\n",
       "        vertical-align: middle;\n",
       "    }\n",
       "\n",
       "    .dataframe tbody tr th {\n",
       "        vertical-align: top;\n",
       "    }\n",
       "\n",
       "    .dataframe thead th {\n",
       "        text-align: right;\n",
       "    }\n",
       "</style>\n",
       "<table border=\"1\" class=\"dataframe\">\n",
       "  <thead>\n",
       "    <tr style=\"text-align: right;\">\n",
       "      <th></th>\n",
       "      <th>1</th>\n",
       "      <th>2</th>\n",
       "      <th>3</th>\n",
       "      <th>4</th>\n",
       "      <th>5</th>\n",
       "      <th>6</th>\n",
       "      <th>7</th>\n",
       "      <th>8</th>\n",
       "      <th>9</th>\n",
       "    </tr>\n",
       "  </thead>\n",
       "  <tbody>\n",
       "    <tr>\n",
       "      <th>0</th>\n",
       "      <td>0.035754</td>\n",
       "      <td>0.038376</td>\n",
       "      <td>-0.004679</td>\n",
       "      <td>0.002193</td>\n",
       "      <td>0.003894</td>\n",
       "      <td>0.000000</td>\n",
       "      <td>0.031190</td>\n",
       "      <td>0.012698</td>\n",
       "      <td>0.028524</td>\n",
       "    </tr>\n",
       "    <tr>\n",
       "      <th>1</th>\n",
       "      <td>0.025426</td>\n",
       "      <td>0.031813</td>\n",
       "      <td>0.007787</td>\n",
       "      <td>0.008455</td>\n",
       "      <td>0.012866</td>\n",
       "      <td>0.004162</td>\n",
       "      <td>0.018920</td>\n",
       "      <td>0.011341</td>\n",
       "      <td>0.008773</td>\n",
       "    </tr>\n",
       "    <tr>\n",
       "      <th>2</th>\n",
       "      <td>-0.028862</td>\n",
       "      <td>-0.026353</td>\n",
       "      <td>-0.030469</td>\n",
       "      <td>-0.017833</td>\n",
       "      <td>-0.028735</td>\n",
       "      <td>0.017293</td>\n",
       "      <td>-0.035899</td>\n",
       "      <td>-0.017073</td>\n",
       "      <td>-0.020015</td>\n",
       "    </tr>\n",
       "    <tr>\n",
       "      <th>3</th>\n",
       "      <td>-0.062208</td>\n",
       "      <td>-0.084716</td>\n",
       "      <td>0.003391</td>\n",
       "      <td>-0.011726</td>\n",
       "      <td>-0.000466</td>\n",
       "      <td>-0.040061</td>\n",
       "      <td>0.028283</td>\n",
       "      <td>-0.005561</td>\n",
       "      <td>-0.019424</td>\n",
       "    </tr>\n",
       "    <tr>\n",
       "      <th>4</th>\n",
       "      <td>0.009860</td>\n",
       "      <td>0.009658</td>\n",
       "      <td>-0.021533</td>\n",
       "      <td>-0.019873</td>\n",
       "      <td>-0.012710</td>\n",
       "      <td>-0.004474</td>\n",
       "      <td>-0.009764</td>\n",
       "      <td>-0.010989</td>\n",
       "      <td>-0.007802</td>\n",
       "    </tr>\n",
       "    <tr>\n",
       "      <th>...</th>\n",
       "      <td>...</td>\n",
       "      <td>...</td>\n",
       "      <td>...</td>\n",
       "      <td>...</td>\n",
       "      <td>...</td>\n",
       "      <td>...</td>\n",
       "      <td>...</td>\n",
       "      <td>...</td>\n",
       "      <td>...</td>\n",
       "    </tr>\n",
       "    <tr>\n",
       "      <th>531</th>\n",
       "      <td>0.008599</td>\n",
       "      <td>0.013400</td>\n",
       "      <td>0.006238</td>\n",
       "      <td>0.001925</td>\n",
       "      <td>0.007952</td>\n",
       "      <td>0.005717</td>\n",
       "      <td>0.018371</td>\n",
       "      <td>0.006975</td>\n",
       "      <td>0.003039</td>\n",
       "    </tr>\n",
       "    <tr>\n",
       "      <th>532</th>\n",
       "      <td>0.009310</td>\n",
       "      <td>0.015977</td>\n",
       "      <td>0.003071</td>\n",
       "      <td>-0.001186</td>\n",
       "      <td>0.000345</td>\n",
       "      <td>0.002620</td>\n",
       "      <td>0.001686</td>\n",
       "      <td>-0.000581</td>\n",
       "      <td>0.001039</td>\n",
       "    </tr>\n",
       "    <tr>\n",
       "      <th>533</th>\n",
       "      <td>0.000191</td>\n",
       "      <td>-0.001653</td>\n",
       "      <td>0.001923</td>\n",
       "      <td>0.002872</td>\n",
       "      <td>-0.000723</td>\n",
       "      <td>0.000568</td>\n",
       "      <td>0.005628</td>\n",
       "      <td>0.000572</td>\n",
       "      <td>0.006938</td>\n",
       "    </tr>\n",
       "    <tr>\n",
       "      <th>534</th>\n",
       "      <td>-0.013069</td>\n",
       "      <td>-0.013706</td>\n",
       "      <td>-0.020742</td>\n",
       "      <td>-0.014239</td>\n",
       "      <td>-0.011275</td>\n",
       "      <td>0.001358</td>\n",
       "      <td>-0.011942</td>\n",
       "      <td>-0.012615</td>\n",
       "      <td>-0.000958</td>\n",
       "    </tr>\n",
       "    <tr>\n",
       "      <th>535</th>\n",
       "      <td>-0.007246</td>\n",
       "      <td>-0.019442</td>\n",
       "      <td>0.000000</td>\n",
       "      <td>-0.000473</td>\n",
       "      <td>-0.002997</td>\n",
       "      <td>-0.017920</td>\n",
       "      <td>-0.012252</td>\n",
       "      <td>-0.005465</td>\n",
       "      <td>-0.014297</td>\n",
       "    </tr>\n",
       "  </tbody>\n",
       "</table>\n",
       "<p>536 rows × 9 columns</p>\n",
       "</div>"
      ],
      "text/plain": [
       "            1         2         3         4         5         6         7  \\\n",
       "0    0.035754  0.038376 -0.004679  0.002193  0.003894  0.000000  0.031190   \n",
       "1    0.025426  0.031813  0.007787  0.008455  0.012866  0.004162  0.018920   \n",
       "2   -0.028862 -0.026353 -0.030469 -0.017833 -0.028735  0.017293 -0.035899   \n",
       "3   -0.062208 -0.084716  0.003391 -0.011726 -0.000466 -0.040061  0.028283   \n",
       "4    0.009860  0.009658 -0.021533 -0.019873 -0.012710 -0.004474 -0.009764   \n",
       "..        ...       ...       ...       ...       ...       ...       ...   \n",
       "531  0.008599  0.013400  0.006238  0.001925  0.007952  0.005717  0.018371   \n",
       "532  0.009310  0.015977  0.003071 -0.001186  0.000345  0.002620  0.001686   \n",
       "533  0.000191 -0.001653  0.001923  0.002872 -0.000723  0.000568  0.005628   \n",
       "534 -0.013069 -0.013706 -0.020742 -0.014239 -0.011275  0.001358 -0.011942   \n",
       "535 -0.007246 -0.019442  0.000000 -0.000473 -0.002997 -0.017920 -0.012252   \n",
       "\n",
       "            8         9  \n",
       "0    0.012698  0.028524  \n",
       "1    0.011341  0.008773  \n",
       "2   -0.017073 -0.020015  \n",
       "3   -0.005561 -0.019424  \n",
       "4   -0.010989 -0.007802  \n",
       "..        ...       ...  \n",
       "531  0.006975  0.003039  \n",
       "532 -0.000581  0.001039  \n",
       "533  0.000572  0.006938  \n",
       "534 -0.012615 -0.000958  \n",
       "535 -0.005465 -0.014297  \n",
       "\n",
       "[536 rows x 9 columns]"
      ]
     },
     "execution_count": 4,
     "metadata": {},
     "output_type": "execute_result"
    }
   ],
   "source": [
    "df2 = df\n",
    "df2"
   ]
  },
  {
   "cell_type": "code",
   "execution_count": 5,
   "id": "nominated-content",
   "metadata": {},
   "outputs": [
    {
     "data": {
      "text/html": [
       "<div>\n",
       "<style scoped>\n",
       "    .dataframe tbody tr th:only-of-type {\n",
       "        vertical-align: middle;\n",
       "    }\n",
       "\n",
       "    .dataframe tbody tr th {\n",
       "        vertical-align: top;\n",
       "    }\n",
       "\n",
       "    .dataframe thead th {\n",
       "        text-align: right;\n",
       "    }\n",
       "</style>\n",
       "<table border=\"1\" class=\"dataframe\">\n",
       "  <thead>\n",
       "    <tr style=\"text-align: right;\">\n",
       "      <th></th>\n",
       "      <th>9</th>\n",
       "    </tr>\n",
       "  </thead>\n",
       "  <tbody>\n",
       "    <tr>\n",
       "      <th>0</th>\n",
       "      <td>0.028524</td>\n",
       "    </tr>\n",
       "    <tr>\n",
       "      <th>1</th>\n",
       "      <td>0.008773</td>\n",
       "    </tr>\n",
       "    <tr>\n",
       "      <th>2</th>\n",
       "      <td>-0.020015</td>\n",
       "    </tr>\n",
       "    <tr>\n",
       "      <th>3</th>\n",
       "      <td>-0.019424</td>\n",
       "    </tr>\n",
       "    <tr>\n",
       "      <th>4</th>\n",
       "      <td>-0.007802</td>\n",
       "    </tr>\n",
       "    <tr>\n",
       "      <th>...</th>\n",
       "      <td>...</td>\n",
       "    </tr>\n",
       "    <tr>\n",
       "      <th>531</th>\n",
       "      <td>0.003039</td>\n",
       "    </tr>\n",
       "    <tr>\n",
       "      <th>532</th>\n",
       "      <td>0.001039</td>\n",
       "    </tr>\n",
       "    <tr>\n",
       "      <th>533</th>\n",
       "      <td>0.006938</td>\n",
       "    </tr>\n",
       "    <tr>\n",
       "      <th>534</th>\n",
       "      <td>-0.000958</td>\n",
       "    </tr>\n",
       "    <tr>\n",
       "      <th>535</th>\n",
       "      <td>-0.014297</td>\n",
       "    </tr>\n",
       "  </tbody>\n",
       "</table>\n",
       "<p>536 rows × 1 columns</p>\n",
       "</div>"
      ],
      "text/plain": [
       "            9\n",
       "0    0.028524\n",
       "1    0.008773\n",
       "2   -0.020015\n",
       "3   -0.019424\n",
       "4   -0.007802\n",
       "..        ...\n",
       "531  0.003039\n",
       "532  0.001039\n",
       "533  0.006938\n",
       "534 -0.000958\n",
       "535 -0.014297\n",
       "\n",
       "[536 rows x 1 columns]"
      ]
     },
     "execution_count": 5,
     "metadata": {},
     "output_type": "execute_result"
    }
   ],
   "source": [
    "# here's how to get the last column\n",
    "df2.iloc[:,-1:]"
   ]
  },
  {
   "cell_type": "code",
   "execution_count": 6,
   "id": "august-citation",
   "metadata": {},
   "outputs": [
    {
     "name": "stdout",
     "output_type": "stream",
     "text": [
      "col data 1\n",
      "0.6002952779745133\n",
      "col data 2\n",
      "0.7019537908167133\n",
      "col data 3\n",
      "0.5282432012738653\n",
      "col data 4\n",
      "0.6651624791060335\n",
      "col data 5\n",
      "0.6875434030528024\n",
      "col data 6\n",
      "0.5472879690040532\n",
      "col data 7\n",
      "0.6880735475385332\n",
      "col data 8\n",
      "0.7165016749061555\n",
      "best is  0.7165016749061555\n"
     ]
    }
   ],
   "source": [
    "best_correlation = -10000\n",
    "for col_data in df2.columns[:-1]:\n",
    "    print('col data', col_data)\n",
    "    correlation = df2[col_data].corr(df2[df2.columns[-1]])\n",
    "    if abs(correlation) > best_correlation:\n",
    "        best_correlation = correlation\n",
    "    print(df2[col_data].corr(df2[df2.columns[-1]]))\n",
    "print('best is ', best_correlation)"
   ]
  },
  {
   "cell_type": "code",
   "execution_count": null,
   "id": "daily-locator",
   "metadata": {},
   "outputs": [],
   "source": []
  },
  {
   "cell_type": "code",
   "execution_count": null,
   "id": "furnished-energy",
   "metadata": {},
   "outputs": [],
   "source": []
  },
  {
   "cell_type": "code",
   "execution_count": null,
   "id": "hispanic-bankruptcy",
   "metadata": {},
   "outputs": [],
   "source": []
  },
  {
   "cell_type": "code",
   "execution_count": null,
   "id": "prerequisite-agenda",
   "metadata": {},
   "outputs": [],
   "source": []
  },
  {
   "cell_type": "code",
   "execution_count": null,
   "id": "coordinated-singing",
   "metadata": {},
   "outputs": [],
   "source": []
  },
  {
   "cell_type": "code",
   "execution_count": 7,
   "id": "material-canberra",
   "metadata": {},
   "outputs": [
    {
     "data": {
      "text/plain": [
       "array([[ 0.03575371,  0.03837619, -0.00467931, ...,  0.03119023,\n",
       "         0.01269804,  0.02852446],\n",
       "       [ 0.02542587,  0.03181274,  0.00778674, ...,  0.01891958,\n",
       "         0.01134065,  0.00877264],\n",
       "       [-0.02886173, -0.02635297, -0.03046913, ..., -0.03589858,\n",
       "        -0.0170728 , -0.02001541],\n",
       "       ...,\n",
       "       [ 0.00019097, -0.0016526 ,  0.00192291, ...,  0.00562792,\n",
       "         0.00057157,  0.00693787],\n",
       "       [-0.01306904, -0.01370599, -0.02074215, ..., -0.01194168,\n",
       "        -0.01261533, -0.00095774],\n",
       "       [-0.00724632, -0.01944185,  0.        , ..., -0.01225155,\n",
       "        -0.00546489, -0.01429693]])"
      ]
     },
     "execution_count": 7,
     "metadata": {},
     "output_type": "execute_result"
    }
   ],
   "source": [
    "arr = df2.to_numpy()\n",
    "arr.astype(np.float)"
   ]
  },
  {
   "cell_type": "code",
   "execution_count": 8,
   "id": "revolutionary-share",
   "metadata": {},
   "outputs": [],
   "source": [
    "# for i in arr.T[:-1]:\n",
    "#     #print(i.shape, arr[:,1].shape)\n",
    "#     a = np.corrcoef(i, y=arr[:,-1])\n",
    "    \n",
    "#     #print(np.corrcoef(i, y=arr[:,-1]))\n",
    "#     print(a[0][1])\n",
    "t = arr.T\n",
    "best_correlation = -10000\n",
    "idx= -1\n",
    "for i in range(t.shape[0] -1):\n",
    "    #print(i.shape, arr[:,1].shape)\n",
    "    a = np.corrcoef(t[i], y=arr[:,-1])\n",
    "    \n",
    "    if abs(correlation) > best_correlation:\n",
    "        best_correlation = correlation\n",
    "        idx = i\n"
   ]
  },
  {
   "cell_type": "code",
   "execution_count": 9,
   "id": "limiting-pierce",
   "metadata": {},
   "outputs": [
    {
     "data": {
      "text/plain": [
       "0.7165016749061555"
      ]
     },
     "execution_count": 9,
     "metadata": {},
     "output_type": "execute_result"
    }
   ],
   "source": [
    "best_correlation"
   ]
  },
  {
   "cell_type": "code",
   "execution_count": 10,
   "id": "tutorial-layout",
   "metadata": {},
   "outputs": [
    {
     "data": {
      "text/plain": [
       "0"
      ]
     },
     "execution_count": 10,
     "metadata": {},
     "output_type": "execute_result"
    }
   ],
   "source": [
    "idx"
   ]
  },
  {
   "cell_type": "code",
   "execution_count": 11,
   "id": "satisfied-steam",
   "metadata": {},
   "outputs": [
    {
     "data": {
      "text/plain": [
       "0.002188758"
      ]
     },
     "execution_count": 11,
     "metadata": {},
     "output_type": "execute_result"
    }
   ],
   "source": [
    "median = np.median(t[idx])\n",
    "median"
   ]
  },
  {
   "cell_type": "code",
   "execution_count": 12,
   "id": "radical-uncertainty",
   "metadata": {},
   "outputs": [
    {
     "data": {
      "text/plain": [
       "0.002188758"
      ]
     },
     "execution_count": 12,
     "metadata": {},
     "output_type": "execute_result"
    }
   ],
   "source": [
    "m2 = np.median(arr[:,idx])\n",
    "m2"
   ]
  },
  {
   "cell_type": "code",
   "execution_count": 13,
   "id": "primary-suspension",
   "metadata": {},
   "outputs": [],
   "source": [
    "z = arr[arr[:,idx]<=median]"
   ]
  },
  {
   "cell_type": "code",
   "execution_count": 14,
   "id": "operating-airline",
   "metadata": {},
   "outputs": [
    {
     "data": {
      "text/plain": [
       "(268, 9)"
      ]
     },
     "execution_count": 14,
     "metadata": {},
     "output_type": "execute_result"
    }
   ],
   "source": [
    "z.shape"
   ]
  },
  {
   "cell_type": "code",
   "execution_count": 15,
   "id": "coupled-imaging",
   "metadata": {},
   "outputs": [
    {
     "data": {
      "text/plain": [
       "array([[-0.02886173, -0.02635297, -0.03046913, ..., -0.03589858,\n",
       "        -0.0170728 , -0.02001541],\n",
       "       [-0.06220808, -0.0847159 ,  0.00339136, ...,  0.02828315,\n",
       "        -0.00556096, -0.01942378],\n",
       "       [-0.02919103, -0.04236115, -0.02282263, ..., -0.05384947,\n",
       "        -0.01245126, -0.02262974],\n",
       "       ...,\n",
       "       [ 0.00019097, -0.0016526 ,  0.00192291, ...,  0.00562792,\n",
       "         0.00057157,  0.00693787],\n",
       "       [-0.01306904, -0.01370599, -0.02074215, ..., -0.01194168,\n",
       "        -0.01261533, -0.00095774],\n",
       "       [-0.00724632, -0.01944185,  0.        , ..., -0.01225155,\n",
       "        -0.00546489, -0.01429693]])"
      ]
     },
     "execution_count": 15,
     "metadata": {},
     "output_type": "execute_result"
    }
   ],
   "source": [
    "z"
   ]
  },
  {
   "cell_type": "code",
   "execution_count": 16,
   "id": "recognized-satellite",
   "metadata": {},
   "outputs": [],
   "source": [
    "y = arr[arr[:,idx]>median]"
   ]
  },
  {
   "cell_type": "code",
   "execution_count": 17,
   "id": "senior-buffer",
   "metadata": {},
   "outputs": [
    {
     "data": {
      "text/plain": [
       "(268, 9)"
      ]
     },
     "execution_count": 17,
     "metadata": {},
     "output_type": "execute_result"
    }
   ],
   "source": [
    "y.shape"
   ]
  },
  {
   "cell_type": "code",
   "execution_count": 18,
   "id": "rental-teens",
   "metadata": {},
   "outputs": [],
   "source": [
    "d = pd.DataFrame(y)"
   ]
  },
  {
   "cell_type": "code",
   "execution_count": 19,
   "id": "comparative-reverse",
   "metadata": {},
   "outputs": [
    {
     "data": {
      "text/html": [
       "<div>\n",
       "<style scoped>\n",
       "    .dataframe tbody tr th:only-of-type {\n",
       "        vertical-align: middle;\n",
       "    }\n",
       "\n",
       "    .dataframe tbody tr th {\n",
       "        vertical-align: top;\n",
       "    }\n",
       "\n",
       "    .dataframe thead th {\n",
       "        text-align: right;\n",
       "    }\n",
       "</style>\n",
       "<table border=\"1\" class=\"dataframe\">\n",
       "  <thead>\n",
       "    <tr style=\"text-align: right;\">\n",
       "      <th></th>\n",
       "      <th>0</th>\n",
       "      <th>1</th>\n",
       "      <th>2</th>\n",
       "      <th>3</th>\n",
       "      <th>4</th>\n",
       "      <th>5</th>\n",
       "      <th>6</th>\n",
       "      <th>7</th>\n",
       "      <th>8</th>\n",
       "    </tr>\n",
       "  </thead>\n",
       "  <tbody>\n",
       "    <tr>\n",
       "      <th>0</th>\n",
       "      <td>0.035754</td>\n",
       "      <td>0.038376</td>\n",
       "      <td>-0.004679</td>\n",
       "      <td>0.002193</td>\n",
       "      <td>0.003894</td>\n",
       "      <td>0.000000</td>\n",
       "      <td>0.031190</td>\n",
       "      <td>0.012698</td>\n",
       "      <td>0.028524</td>\n",
       "    </tr>\n",
       "    <tr>\n",
       "      <th>1</th>\n",
       "      <td>0.025426</td>\n",
       "      <td>0.031813</td>\n",
       "      <td>0.007787</td>\n",
       "      <td>0.008455</td>\n",
       "      <td>0.012866</td>\n",
       "      <td>0.004162</td>\n",
       "      <td>0.018920</td>\n",
       "      <td>0.011341</td>\n",
       "      <td>0.008773</td>\n",
       "    </tr>\n",
       "    <tr>\n",
       "      <th>2</th>\n",
       "      <td>0.009860</td>\n",
       "      <td>0.009658</td>\n",
       "      <td>-0.021533</td>\n",
       "      <td>-0.019873</td>\n",
       "      <td>-0.012710</td>\n",
       "      <td>-0.004474</td>\n",
       "      <td>-0.009764</td>\n",
       "      <td>-0.010989</td>\n",
       "      <td>-0.007802</td>\n",
       "    </tr>\n",
       "    <tr>\n",
       "      <th>3</th>\n",
       "      <td>0.015445</td>\n",
       "      <td>-0.000272</td>\n",
       "      <td>0.001757</td>\n",
       "      <td>-0.017674</td>\n",
       "      <td>-0.006141</td>\n",
       "      <td>0.000000</td>\n",
       "      <td>0.003572</td>\n",
       "      <td>-0.012220</td>\n",
       "      <td>-0.004827</td>\n",
       "    </tr>\n",
       "    <tr>\n",
       "      <th>4</th>\n",
       "      <td>0.022037</td>\n",
       "      <td>0.032278</td>\n",
       "      <td>0.007533</td>\n",
       "      <td>0.006791</td>\n",
       "      <td>0.006289</td>\n",
       "      <td>0.025453</td>\n",
       "      <td>0.004867</td>\n",
       "      <td>0.008561</td>\n",
       "      <td>0.010917</td>\n",
       "    </tr>\n",
       "  </tbody>\n",
       "</table>\n",
       "</div>"
      ],
      "text/plain": [
       "          0         1         2         3         4         5         6  \\\n",
       "0  0.035754  0.038376 -0.004679  0.002193  0.003894  0.000000  0.031190   \n",
       "1  0.025426  0.031813  0.007787  0.008455  0.012866  0.004162  0.018920   \n",
       "2  0.009860  0.009658 -0.021533 -0.019873 -0.012710 -0.004474 -0.009764   \n",
       "3  0.015445 -0.000272  0.001757 -0.017674 -0.006141  0.000000  0.003572   \n",
       "4  0.022037  0.032278  0.007533  0.006791  0.006289  0.025453  0.004867   \n",
       "\n",
       "          7         8  \n",
       "0  0.012698  0.028524  \n",
       "1  0.011341  0.008773  \n",
       "2 -0.010989 -0.007802  \n",
       "3 -0.012220 -0.004827  \n",
       "4  0.008561  0.010917  "
      ]
     },
     "execution_count": 19,
     "metadata": {},
     "output_type": "execute_result"
    }
   ],
   "source": [
    "d.head()"
   ]
  },
  {
   "cell_type": "code",
   "execution_count": 20,
   "id": "considerable-lafayette",
   "metadata": {},
   "outputs": [
    {
     "data": {
      "text/plain": [
       "array([[ 0.03575371,  0.03837619, -0.00467931, ...,  0.03119023,\n",
       "         0.01269804,  0.02852446],\n",
       "       [ 0.02542587,  0.03181274,  0.00778674, ...,  0.01891958,\n",
       "         0.01134065,  0.00877264],\n",
       "       [ 0.00985991,  0.00965811, -0.02153321, ..., -0.00976388,\n",
       "        -0.01098863, -0.00780221],\n",
       "       ...,\n",
       "       [ 0.00360638,  0.00089272, -0.0032402 , ..., -0.00326564,\n",
       "        -0.00054988, -0.00143045],\n",
       "       [ 0.00859906,  0.0133999 ,  0.00623799, ...,  0.01837079,\n",
       "         0.00697461,  0.00303899],\n",
       "       [ 0.00931031,  0.0159772 ,  0.00307089, ...,  0.00168569,\n",
       "        -0.00058051,  0.00103859]])"
      ]
     },
     "execution_count": 20,
     "metadata": {},
     "output_type": "execute_result"
    }
   ],
   "source": [
    "y"
   ]
  },
  {
   "cell_type": "code",
   "execution_count": 21,
   "id": "perceived-arkansas",
   "metadata": {},
   "outputs": [
    {
     "data": {
      "text/plain": [
       "array([ 0.03575371,  0.03837619, -0.00467931,  0.00219342,  0.00389438,\n",
       "        0.        ,  0.03119023,  0.01269804,  0.02852446])"
      ]
     },
     "execution_count": 21,
     "metadata": {},
     "output_type": "execute_result"
    }
   ],
   "source": [
    "y[0]"
   ]
  },
  {
   "cell_type": "code",
   "execution_count": 22,
   "id": "informative-motor",
   "metadata": {},
   "outputs": [
    {
     "data": {
      "text/plain": [
       "0.002192959"
      ]
     },
     "execution_count": 22,
     "metadata": {},
     "output_type": "execute_result"
    }
   ],
   "source": [
    "np.min(y[:,0])"
   ]
  },
  {
   "cell_type": "code",
   "execution_count": 23,
   "id": "minor-fifty",
   "metadata": {},
   "outputs": [
    {
     "data": {
      "text/plain": [
       "0.002184557"
      ]
     },
     "execution_count": 23,
     "metadata": {},
     "output_type": "execute_result"
    }
   ],
   "source": [
    "np.max(z[:,0])"
   ]
  },
  {
   "cell_type": "code",
   "execution_count": 24,
   "id": "expired-airline",
   "metadata": {},
   "outputs": [
    {
     "data": {
      "text/plain": [
       "array([], shape=(0, 3), dtype=float64)"
      ]
     },
     "execution_count": 24,
     "metadata": {},
     "output_type": "execute_result"
    }
   ],
   "source": [
    "a = np.empty((0,3))\n",
    "a"
   ]
  },
  {
   "cell_type": "code",
   "execution_count": 25,
   "id": "beneficial-serve",
   "metadata": {},
   "outputs": [
    {
     "data": {
      "text/plain": [
       "(2, 3)"
      ]
     },
     "execution_count": 25,
     "metadata": {},
     "output_type": "execute_result"
    }
   ],
   "source": [
    "arr2 = np.array([[1, 2, 3], [4, 5, 6]])\n",
    "arr2.shape"
   ]
  },
  {
   "cell_type": "code",
   "execution_count": 26,
   "id": "revised-danish",
   "metadata": {},
   "outputs": [],
   "source": [
    "a = np.append(a, arr2)"
   ]
  },
  {
   "cell_type": "code",
   "execution_count": 27,
   "id": "solar-initial",
   "metadata": {},
   "outputs": [
    {
     "data": {
      "text/plain": [
       "array([1., 2., 3., 4., 5., 6.])"
      ]
     },
     "execution_count": 27,
     "metadata": {},
     "output_type": "execute_result"
    }
   ],
   "source": [
    "a"
   ]
  },
  {
   "cell_type": "code",
   "execution_count": 28,
   "id": "greater-orientation",
   "metadata": {},
   "outputs": [
    {
     "data": {
      "text/plain": [
       "(6,)"
      ]
     },
     "execution_count": 28,
     "metadata": {},
     "output_type": "execute_result"
    }
   ],
   "source": [
    "a.shape"
   ]
  },
  {
   "cell_type": "code",
   "execution_count": 35,
   "id": "labeled-naples",
   "metadata": {},
   "outputs": [
    {
     "data": {
      "text/plain": [
       "array([], shape=(0, 5), dtype=float64)"
      ]
     },
     "execution_count": 35,
     "metadata": {},
     "output_type": "execute_result"
    }
   ],
   "source": [
    "em = np.empty((0,5))\n",
    "em"
   ]
  },
  {
   "cell_type": "code",
   "execution_count": 36,
   "id": "intense-details",
   "metadata": {},
   "outputs": [],
   "source": [
    "arr2 = np.array([[1, 2, 3, 9, 49], [4, 5, 6, 69, 12]])"
   ]
  },
  {
   "cell_type": "code",
   "execution_count": 37,
   "id": "substantial-spectrum",
   "metadata": {},
   "outputs": [
    {
     "data": {
      "text/plain": [
       "array([[ 1,  2,  3,  9, 49],\n",
       "       [ 4,  5,  6, 69, 12]])"
      ]
     },
     "execution_count": 37,
     "metadata": {},
     "output_type": "execute_result"
    }
   ],
   "source": [
    "arr2"
   ]
  },
  {
   "cell_type": "code",
   "execution_count": 38,
   "id": "ongoing-detector",
   "metadata": {},
   "outputs": [
    {
     "data": {
      "text/plain": [
       "(2, 5)"
      ]
     },
     "execution_count": 38,
     "metadata": {},
     "output_type": "execute_result"
    }
   ],
   "source": [
    "arr2.shape"
   ]
  },
  {
   "cell_type": "code",
   "execution_count": 40,
   "id": "auburn-behavior",
   "metadata": {},
   "outputs": [],
   "source": [
    "em = np.vstack((em, arr2))"
   ]
  },
  {
   "cell_type": "code",
   "execution_count": 34,
   "id": "civic-gossip",
   "metadata": {},
   "outputs": [
    {
     "data": {
      "text/plain": [
       "array([[ 1.,  2.,  3.,  9., 49.],\n",
       "       [ 4.,  5.,  6., 69., 12.]])"
      ]
     },
     "execution_count": 34,
     "metadata": {},
     "output_type": "execute_result"
    }
   ],
   "source": [
    "em"
   ]
  },
  {
   "cell_type": "code",
   "execution_count": 41,
   "id": "attended-study",
   "metadata": {},
   "outputs": [
    {
     "data": {
      "text/plain": [
       "(2, 5)"
      ]
     },
     "execution_count": 41,
     "metadata": {},
     "output_type": "execute_result"
    }
   ],
   "source": [
    "em.shape"
   ]
  },
  {
   "cell_type": "code",
   "execution_count": 42,
   "id": "preceding-aurora",
   "metadata": {},
   "outputs": [],
   "source": [
    "arr3 = np.array([[8, 45, 33, 93, 49]])"
   ]
  },
  {
   "cell_type": "code",
   "execution_count": 43,
   "id": "graphic-accused",
   "metadata": {},
   "outputs": [],
   "source": [
    "em = np.vstack((em, arr3))"
   ]
  },
  {
   "cell_type": "code",
   "execution_count": 44,
   "id": "viral-response",
   "metadata": {},
   "outputs": [
    {
     "data": {
      "text/plain": [
       "array([[ 1.,  2.,  3.,  9., 49.],\n",
       "       [ 4.,  5.,  6., 69., 12.],\n",
       "       [ 8., 45., 33., 93., 49.]])"
      ]
     },
     "execution_count": 44,
     "metadata": {},
     "output_type": "execute_result"
    }
   ],
   "source": [
    "em"
   ]
  },
  {
   "cell_type": "code",
   "execution_count": 72,
   "id": "clean-elephant",
   "metadata": {},
   "outputs": [],
   "source": [
    "root = np.array([2,.11,1,8])"
   ]
  },
  {
   "cell_type": "code",
   "execution_count": 73,
   "id": "frank-partition",
   "metadata": {},
   "outputs": [
    {
     "data": {
      "text/plain": [
       "array([2.  , 0.11, 1.  , 8.  ])"
      ]
     },
     "execution_count": 73,
     "metadata": {},
     "output_type": "execute_result"
    }
   ],
   "source": [
    "root\n"
   ]
  },
  {
   "cell_type": "code",
   "execution_count": 74,
   "id": "banned-entry",
   "metadata": {},
   "outputs": [
    {
     "data": {
      "text/plain": [
       "(4,)"
      ]
     },
     "execution_count": 74,
     "metadata": {},
     "output_type": "execute_result"
    }
   ],
   "source": [
    "root.shape"
   ]
  },
  {
   "cell_type": "code",
   "execution_count": 75,
   "id": "apart-armor",
   "metadata": {},
   "outputs": [],
   "source": [
    "root = np.vstack((root, [2,3,4,5],[4,5,6,7]))"
   ]
  },
  {
   "cell_type": "code",
   "execution_count": 76,
   "id": "announced-extreme",
   "metadata": {},
   "outputs": [
    {
     "data": {
      "text/plain": [
       "array([[2.  , 0.11, 1.  , 8.  ],\n",
       "       [2.  , 3.  , 4.  , 5.  ],\n",
       "       [4.  , 5.  , 6.  , 7.  ]])"
      ]
     },
     "execution_count": 76,
     "metadata": {},
     "output_type": "execute_result"
    }
   ],
   "source": [
    "root"
   ]
  },
  {
   "cell_type": "code",
   "execution_count": 77,
   "id": "committed-bailey",
   "metadata": {},
   "outputs": [
    {
     "data": {
      "text/plain": [
       "(3, 4)"
      ]
     },
     "execution_count": 77,
     "metadata": {},
     "output_type": "execute_result"
    }
   ],
   "source": [
    "root.shape"
   ]
  },
  {
   "cell_type": "code",
   "execution_count": 79,
   "id": "sufficient-fever",
   "metadata": {},
   "outputs": [
    {
     "data": {
      "text/plain": [
       "array([[1, 2, 3],\n",
       "       [4, 5, 7]])"
      ]
     },
     "execution_count": 79,
     "metadata": {},
     "output_type": "execute_result"
    }
   ],
   "source": [
    "x = np.array([[1,2,3],[4,5,7]])\n",
    "x"
   ]
  },
  {
   "cell_type": "code",
   "execution_count": 80,
   "id": "equipped-organic",
   "metadata": {},
   "outputs": [],
   "source": [
    "y = np.array([[2],[5]])"
   ]
  },
  {
   "cell_type": "code",
   "execution_count": 81,
   "id": "continuous-invasion",
   "metadata": {},
   "outputs": [
    {
     "data": {
      "text/plain": [
       "array([[2],\n",
       "       [5]])"
      ]
     },
     "execution_count": 81,
     "metadata": {},
     "output_type": "execute_result"
    }
   ],
   "source": [
    "y"
   ]
  },
  {
   "cell_type": "code",
   "execution_count": 82,
   "id": "coordinated-doctor",
   "metadata": {},
   "outputs": [],
   "source": [
    "data = np.append(x,y,axis=1)"
   ]
  },
  {
   "cell_type": "code",
   "execution_count": 83,
   "id": "central-viewer",
   "metadata": {},
   "outputs": [
    {
     "data": {
      "text/plain": [
       "array([[1, 2, 3, 2],\n",
       "       [4, 5, 7, 5]])"
      ]
     },
     "execution_count": 83,
     "metadata": {},
     "output_type": "execute_result"
    }
   ],
   "source": [
    "data"
   ]
  },
  {
   "cell_type": "code",
   "execution_count": null,
   "id": "figured-angola",
   "metadata": {},
   "outputs": [],
   "source": []
  }
 ],
 "metadata": {
  "kernelspec": {
   "display_name": "Python 3",
   "language": "python",
   "name": "python3"
  },
  "language_info": {
   "codemirror_mode": {
    "name": "ipython",
    "version": 3
   },
   "file_extension": ".py",
   "mimetype": "text/x-python",
   "name": "python",
   "nbconvert_exporter": "python",
   "pygments_lexer": "ipython3",
   "version": "3.9.1"
  }
 },
 "nbformat": 4,
 "nbformat_minor": 5
}
