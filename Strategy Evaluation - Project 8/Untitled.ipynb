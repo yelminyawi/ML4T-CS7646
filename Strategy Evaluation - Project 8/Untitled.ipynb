{
 "cells": [
  {
   "cell_type": "code",
   "execution_count": 5,
   "id": "rolled-conflict",
   "metadata": {},
   "outputs": [],
   "source": [
    "import pandas as pd\n",
    "import numpy as np\n",
    "import datetime as dt\n",
    "from util import get_data, plot_data"
   ]
  },
  {
   "cell_type": "code",
   "execution_count": 4,
   "id": "adapted-macro",
   "metadata": {},
   "outputs": [],
   "source": [
    "sd=dt.datetime(2010, 1, 1)\n",
    "ed=dt.datetime(2011, 12, 31)"
   ]
  },
  {
   "cell_type": "code",
   "execution_count": 6,
   "id": "offensive-server",
   "metadata": {},
   "outputs": [],
   "source": [
    "dates = pd.date_range(sd, ed)"
   ]
  },
  {
   "cell_type": "code",
   "execution_count": 7,
   "id": "convenient-linux",
   "metadata": {},
   "outputs": [],
   "source": [
    "dfStockPrice = get_data(['JPM'], dates, True, colname='Adj Close').drop(columns=['SPY'])"
   ]
  },
  {
   "cell_type": "code",
   "execution_count": 8,
   "id": "solid-ballet",
   "metadata": {},
   "outputs": [],
   "source": [
    "dfStockPriceNorm = dfStockPrice / dfStockPrice.iloc[0, :]"
   ]
  },
  {
   "cell_type": "code",
   "execution_count": 9,
   "id": "contrary-thermal",
   "metadata": {},
   "outputs": [],
   "source": [
    "dates2 = dfStockPriceNorm.index"
   ]
  },
  {
   "cell_type": "code",
   "execution_count": 10,
   "id": "compressed-williams",
   "metadata": {},
   "outputs": [
    {
     "data": {
      "text/plain": [
       "DatetimeIndex(['2010-01-01', '2010-01-02', '2010-01-03', '2010-01-04',\n",
       "               '2010-01-05', '2010-01-06', '2010-01-07', '2010-01-08',\n",
       "               '2010-01-09', '2010-01-10',\n",
       "               ...\n",
       "               '2011-12-22', '2011-12-23', '2011-12-24', '2011-12-25',\n",
       "               '2011-12-26', '2011-12-27', '2011-12-28', '2011-12-29',\n",
       "               '2011-12-30', '2011-12-31'],\n",
       "              dtype='datetime64[ns]', length=730, freq='D')"
      ]
     },
     "execution_count": 10,
     "metadata": {},
     "output_type": "execute_result"
    }
   ],
   "source": [
    "dates"
   ]
  },
  {
   "cell_type": "code",
   "execution_count": 11,
   "id": "after-entertainment",
   "metadata": {},
   "outputs": [
    {
     "data": {
      "text/plain": [
       "DatetimeIndex(['2010-01-04', '2010-01-05', '2010-01-06', '2010-01-07',\n",
       "               '2010-01-08', '2010-01-11', '2010-01-12', '2010-01-13',\n",
       "               '2010-01-14', '2010-01-15',\n",
       "               ...\n",
       "               '2011-12-16', '2011-12-19', '2011-12-20', '2011-12-21',\n",
       "               '2011-12-22', '2011-12-23', '2011-12-27', '2011-12-28',\n",
       "               '2011-12-29', '2011-12-30'],\n",
       "              dtype='datetime64[ns]', length=504, freq=None)"
      ]
     },
     "execution_count": 11,
     "metadata": {},
     "output_type": "execute_result"
    }
   ],
   "source": [
    "dates2"
   ]
  },
  {
   "cell_type": "code",
   "execution_count": null,
   "id": "intense-pixel",
   "metadata": {},
   "outputs": [],
   "source": []
  }
 ],
 "metadata": {
  "kernelspec": {
   "display_name": "Python 3",
   "language": "python",
   "name": "python3"
  },
  "language_info": {
   "codemirror_mode": {
    "name": "ipython",
    "version": 3
   },
   "file_extension": ".py",
   "mimetype": "text/x-python",
   "name": "python",
   "nbconvert_exporter": "python",
   "pygments_lexer": "ipython3",
   "version": "3.8.5"
  }
 },
 "nbformat": 4,
 "nbformat_minor": 5
}
