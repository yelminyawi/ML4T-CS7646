{
 "cells": [
  {
   "cell_type": "code",
   "execution_count": 2,
   "id": "defensive-munich",
   "metadata": {},
   "outputs": [],
   "source": [
    "import numpy as np\n",
    "import pandas as pd"
   ]
  },
  {
   "cell_type": "code",
   "execution_count": 3,
   "id": "metropolitan-advantage",
   "metadata": {},
   "outputs": [],
   "source": [
    "a = np.zeros((10,30),dtype=float)"
   ]
  },
  {
   "cell_type": "code",
   "execution_count": 4,
   "id": "special-government",
   "metadata": {},
   "outputs": [
    {
     "data": {
      "text/plain": [
       "(10, 30)"
      ]
     },
     "execution_count": 4,
     "metadata": {},
     "output_type": "execute_result"
    }
   ],
   "source": [
    "a.shape"
   ]
  },
  {
   "cell_type": "code",
   "execution_count": 5,
   "id": "spiritual-identity",
   "metadata": {},
   "outputs": [],
   "source": [
    "a[3][10]=70"
   ]
  },
  {
   "cell_type": "code",
   "execution_count": 6,
   "id": "existing-semiconductor",
   "metadata": {},
   "outputs": [],
   "source": [
    "a[1][19]= 23\n"
   ]
  },
  {
   "cell_type": "code",
   "execution_count": 7,
   "id": "interstate-dancing",
   "metadata": {},
   "outputs": [],
   "source": [
    "a[9][29] = 100"
   ]
  },
  {
   "cell_type": "code",
   "execution_count": 8,
   "id": "median-living",
   "metadata": {},
   "outputs": [],
   "source": [
    "a[0][0] = 56"
   ]
  },
  {
   "cell_type": "code",
   "execution_count": 13,
   "id": "addressed-progress",
   "metadata": {},
   "outputs": [],
   "source": [
    "a[2][4] = 44\n",
    "a[3][21] = 6969\n",
    "a[4][28] = 745"
   ]
  },
  {
   "cell_type": "code",
   "execution_count": 14,
   "id": "technological-medline",
   "metadata": {},
   "outputs": [],
   "source": [
    "b = pd.DataFrame(a)"
   ]
  },
  {
   "cell_type": "code",
   "execution_count": 15,
   "id": "excellent-robin",
   "metadata": {},
   "outputs": [
    {
     "data": {
      "text/html": [
       "<div>\n",
       "<style scoped>\n",
       "    .dataframe tbody tr th:only-of-type {\n",
       "        vertical-align: middle;\n",
       "    }\n",
       "\n",
       "    .dataframe tbody tr th {\n",
       "        vertical-align: top;\n",
       "    }\n",
       "\n",
       "    .dataframe thead th {\n",
       "        text-align: right;\n",
       "    }\n",
       "</style>\n",
       "<table border=\"1\" class=\"dataframe\">\n",
       "  <thead>\n",
       "    <tr style=\"text-align: right;\">\n",
       "      <th></th>\n",
       "      <th>0</th>\n",
       "      <th>1</th>\n",
       "      <th>2</th>\n",
       "      <th>3</th>\n",
       "      <th>4</th>\n",
       "      <th>5</th>\n",
       "      <th>6</th>\n",
       "      <th>7</th>\n",
       "      <th>8</th>\n",
       "      <th>9</th>\n",
       "      <th>...</th>\n",
       "      <th>20</th>\n",
       "      <th>21</th>\n",
       "      <th>22</th>\n",
       "      <th>23</th>\n",
       "      <th>24</th>\n",
       "      <th>25</th>\n",
       "      <th>26</th>\n",
       "      <th>27</th>\n",
       "      <th>28</th>\n",
       "      <th>29</th>\n",
       "    </tr>\n",
       "  </thead>\n",
       "  <tbody>\n",
       "    <tr>\n",
       "      <th>0</th>\n",
       "      <td>56.0</td>\n",
       "      <td>0.0</td>\n",
       "      <td>0.0</td>\n",
       "      <td>0.0</td>\n",
       "      <td>0.0</td>\n",
       "      <td>0.0</td>\n",
       "      <td>0.0</td>\n",
       "      <td>0.0</td>\n",
       "      <td>0.0</td>\n",
       "      <td>0.0</td>\n",
       "      <td>...</td>\n",
       "      <td>0.0</td>\n",
       "      <td>0.0</td>\n",
       "      <td>0.0</td>\n",
       "      <td>0.0</td>\n",
       "      <td>0.0</td>\n",
       "      <td>0.0</td>\n",
       "      <td>0.0</td>\n",
       "      <td>0.0</td>\n",
       "      <td>0.0</td>\n",
       "      <td>0.0</td>\n",
       "    </tr>\n",
       "    <tr>\n",
       "      <th>1</th>\n",
       "      <td>0.0</td>\n",
       "      <td>0.0</td>\n",
       "      <td>0.0</td>\n",
       "      <td>0.0</td>\n",
       "      <td>0.0</td>\n",
       "      <td>0.0</td>\n",
       "      <td>0.0</td>\n",
       "      <td>0.0</td>\n",
       "      <td>0.0</td>\n",
       "      <td>0.0</td>\n",
       "      <td>...</td>\n",
       "      <td>0.0</td>\n",
       "      <td>0.0</td>\n",
       "      <td>0.0</td>\n",
       "      <td>0.0</td>\n",
       "      <td>0.0</td>\n",
       "      <td>0.0</td>\n",
       "      <td>0.0</td>\n",
       "      <td>0.0</td>\n",
       "      <td>0.0</td>\n",
       "      <td>0.0</td>\n",
       "    </tr>\n",
       "    <tr>\n",
       "      <th>2</th>\n",
       "      <td>0.0</td>\n",
       "      <td>0.0</td>\n",
       "      <td>0.0</td>\n",
       "      <td>0.0</td>\n",
       "      <td>44.0</td>\n",
       "      <td>0.0</td>\n",
       "      <td>0.0</td>\n",
       "      <td>0.0</td>\n",
       "      <td>0.0</td>\n",
       "      <td>0.0</td>\n",
       "      <td>...</td>\n",
       "      <td>0.0</td>\n",
       "      <td>0.0</td>\n",
       "      <td>0.0</td>\n",
       "      <td>0.0</td>\n",
       "      <td>0.0</td>\n",
       "      <td>0.0</td>\n",
       "      <td>0.0</td>\n",
       "      <td>0.0</td>\n",
       "      <td>0.0</td>\n",
       "      <td>0.0</td>\n",
       "    </tr>\n",
       "    <tr>\n",
       "      <th>3</th>\n",
       "      <td>0.0</td>\n",
       "      <td>0.0</td>\n",
       "      <td>0.0</td>\n",
       "      <td>0.0</td>\n",
       "      <td>0.0</td>\n",
       "      <td>0.0</td>\n",
       "      <td>0.0</td>\n",
       "      <td>0.0</td>\n",
       "      <td>0.0</td>\n",
       "      <td>0.0</td>\n",
       "      <td>...</td>\n",
       "      <td>0.0</td>\n",
       "      <td>6969.0</td>\n",
       "      <td>0.0</td>\n",
       "      <td>0.0</td>\n",
       "      <td>0.0</td>\n",
       "      <td>0.0</td>\n",
       "      <td>0.0</td>\n",
       "      <td>0.0</td>\n",
       "      <td>0.0</td>\n",
       "      <td>0.0</td>\n",
       "    </tr>\n",
       "    <tr>\n",
       "      <th>4</th>\n",
       "      <td>0.0</td>\n",
       "      <td>0.0</td>\n",
       "      <td>0.0</td>\n",
       "      <td>0.0</td>\n",
       "      <td>0.0</td>\n",
       "      <td>0.0</td>\n",
       "      <td>0.0</td>\n",
       "      <td>0.0</td>\n",
       "      <td>0.0</td>\n",
       "      <td>0.0</td>\n",
       "      <td>...</td>\n",
       "      <td>0.0</td>\n",
       "      <td>0.0</td>\n",
       "      <td>0.0</td>\n",
       "      <td>0.0</td>\n",
       "      <td>0.0</td>\n",
       "      <td>0.0</td>\n",
       "      <td>0.0</td>\n",
       "      <td>0.0</td>\n",
       "      <td>745.0</td>\n",
       "      <td>0.0</td>\n",
       "    </tr>\n",
       "  </tbody>\n",
       "</table>\n",
       "<p>5 rows × 30 columns</p>\n",
       "</div>"
      ],
      "text/plain": [
       "     0    1    2    3     4    5    6    7    8    9   ...   20      21   22  \\\n",
       "0  56.0  0.0  0.0  0.0   0.0  0.0  0.0  0.0  0.0  0.0  ...  0.0     0.0  0.0   \n",
       "1   0.0  0.0  0.0  0.0   0.0  0.0  0.0  0.0  0.0  0.0  ...  0.0     0.0  0.0   \n",
       "2   0.0  0.0  0.0  0.0  44.0  0.0  0.0  0.0  0.0  0.0  ...  0.0     0.0  0.0   \n",
       "3   0.0  0.0  0.0  0.0   0.0  0.0  0.0  0.0  0.0  0.0  ...  0.0  6969.0  0.0   \n",
       "4   0.0  0.0  0.0  0.0   0.0  0.0  0.0  0.0  0.0  0.0  ...  0.0     0.0  0.0   \n",
       "\n",
       "    23   24   25   26   27     28   29  \n",
       "0  0.0  0.0  0.0  0.0  0.0    0.0  0.0  \n",
       "1  0.0  0.0  0.0  0.0  0.0    0.0  0.0  \n",
       "2  0.0  0.0  0.0  0.0  0.0    0.0  0.0  \n",
       "3  0.0  0.0  0.0  0.0  0.0    0.0  0.0  \n",
       "4  0.0  0.0  0.0  0.0  0.0  745.0  0.0  \n",
       "\n",
       "[5 rows x 30 columns]"
      ]
     },
     "execution_count": 15,
     "metadata": {},
     "output_type": "execute_result"
    }
   ],
   "source": [
    "b.head()"
   ]
  },
  {
   "cell_type": "code",
   "execution_count": 17,
   "id": "otherwise-berry",
   "metadata": {},
   "outputs": [
    {
     "data": {
      "text/plain": [
       "28"
      ]
     },
     "execution_count": 17,
     "metadata": {},
     "output_type": "execute_result"
    }
   ],
   "source": [
    "np.argmax(a[4])"
   ]
  },
  {
   "cell_type": "code",
   "execution_count": 20,
   "id": "active-visit",
   "metadata": {},
   "outputs": [
    {
     "data": {
      "text/plain": [
       "56.0"
      ]
     },
     "execution_count": 20,
     "metadata": {},
     "output_type": "execute_result"
    }
   ],
   "source": [
    "a[0][0]"
   ]
  },
  {
   "cell_type": "code",
   "execution_count": 21,
   "id": "conservative-pharmacology",
   "metadata": {},
   "outputs": [
    {
     "data": {
      "text/plain": [
       "numpy.ndarray"
      ]
     },
     "execution_count": 21,
     "metadata": {},
     "output_type": "execute_result"
    }
   ],
   "source": [
    "type(a)"
   ]
  },
  {
   "cell_type": "code",
   "execution_count": 22,
   "id": "loved-composite",
   "metadata": {},
   "outputs": [],
   "source": [
    "d = 1\n"
   ]
  },
  {
   "cell_type": "code",
   "execution_count": 23,
   "id": "frank-convertible",
   "metadata": {},
   "outputs": [
    {
     "name": "stdout",
     "output_type": "stream",
     "text": [
      "value of d is  1\n"
     ]
    }
   ],
   "source": [
    "print(\"value of d is \", d)"
   ]
  },
  {
   "cell_type": "code",
   "execution_count": 31,
   "id": "recreational-jesus",
   "metadata": {},
   "outputs": [
    {
     "name": "stdout",
     "output_type": "stream",
     "text": [
      "hello -2\n"
     ]
    }
   ],
   "source": [
    "n = -2\n",
    "if n:\n",
    "    print('hello', n)"
   ]
  },
  {
   "cell_type": "code",
   "execution_count": 32,
   "id": "exposed-faculty",
   "metadata": {},
   "outputs": [],
   "source": [
    "t = np.zeros((100, 4, 100))"
   ]
  },
  {
   "cell_type": "code",
   "execution_count": 36,
   "id": "practical-marble",
   "metadata": {},
   "outputs": [
    {
     "data": {
      "text/plain": [
       "(100, 4, 100)"
      ]
     },
     "execution_count": 36,
     "metadata": {},
     "output_type": "execute_result"
    }
   ],
   "source": [
    "t.shape"
   ]
  },
  {
   "cell_type": "code",
   "execution_count": 41,
   "id": "falling-quantity",
   "metadata": {},
   "outputs": [],
   "source": [
    "t[0][0][1] = 69\n",
    "t[1][2][1] = 12\n",
    "t[6][3][1] = 34\n",
    "t[10][1][1] = 25"
   ]
  },
  {
   "cell_type": "code",
   "execution_count": 45,
   "id": "periodic-investigation",
   "metadata": {},
   "outputs": [
    {
     "data": {
      "text/plain": [
       "array([[ 0,  0,  0,  0,  0,  0,  0,  0,  0,  0,  0,  0,  0,  0,  0,  0,\n",
       "         0,  0,  0,  0,  0,  0,  0,  0,  0,  0,  0,  0,  0,  0,  0,  0,\n",
       "         0,  0,  0,  0,  0,  0,  0,  0,  0,  0,  0,  0,  0,  0,  0,  0,\n",
       "         0,  0,  0,  0,  0,  0,  0,  0,  0,  0,  0,  0,  0,  0,  0,  0,\n",
       "         0,  0,  0,  0,  0,  0,  0,  0,  0,  0,  0,  0,  0,  0,  0,  0,\n",
       "         0,  0,  0,  0,  0,  0,  0,  0,  0,  0,  0,  0,  0,  0,  0,  0,\n",
       "         0,  0,  0,  0],\n",
       "       [ 0, 10,  0,  0,  0,  0,  0,  0,  0,  0,  0,  0,  0,  0,  0,  0,\n",
       "         0,  0,  0,  0,  0,  0,  0,  0,  0,  0,  0,  0,  0,  0,  0,  0,\n",
       "         0,  0,  0,  0,  0,  0,  0,  0,  0,  0,  0,  0,  0,  0,  0,  0,\n",
       "         0,  0,  0,  0,  0,  0,  0,  0,  0,  0,  0,  0,  0,  0,  0,  0,\n",
       "         0,  0,  0,  0,  0,  0,  0,  0,  0,  0,  0,  0,  0,  0,  0,  0,\n",
       "         0,  0,  0,  0,  0,  0,  0,  0,  0,  0,  0,  0,  0,  0,  0,  0,\n",
       "         0,  0,  0,  0],\n",
       "       [ 0,  1,  0,  0,  0,  0,  0,  0,  0,  0,  0,  0,  0,  0,  0,  0,\n",
       "         0,  0,  0,  0,  0,  0,  0,  0,  0,  0,  0,  0,  0,  0,  0,  0,\n",
       "         0,  0,  0,  0,  0,  0,  0,  0,  0,  0,  0,  0,  0,  0,  0,  0,\n",
       "         0,  0,  0,  0,  0,  0,  0,  0,  0,  0,  0,  0,  0,  0,  0,  0,\n",
       "         0,  0,  0,  0,  0,  0,  0,  0,  0,  0,  0,  0,  0,  0,  0,  0,\n",
       "         0,  0,  0,  0,  0,  0,  0,  0,  0,  0,  0,  0,  0,  0,  0,  0,\n",
       "         0,  0,  0,  0],\n",
       "       [ 0,  6,  0,  0,  0,  0,  0,  0,  0,  0,  0,  0,  0,  0,  0,  0,\n",
       "         0,  0,  0,  0,  0,  0,  0,  0,  0,  0,  0,  0,  0,  0,  0,  0,\n",
       "         0,  0,  0,  0,  0,  0,  0,  0,  0,  0,  0,  0,  0,  0,  0,  0,\n",
       "         0,  0,  0,  0,  0,  0,  0,  0,  0,  0,  0,  0,  0,  0,  0,  0,\n",
       "         0,  0,  0,  0,  0,  0,  0,  0,  0,  0,  0,  0,  0,  0,  0,  0,\n",
       "         0,  0,  0,  0,  0,  0,  0,  0,  0,  0,  0,  0,  0,  0,  0,  0,\n",
       "         0,  0,  0,  0]])"
      ]
     },
     "execution_count": 45,
     "metadata": {},
     "output_type": "execute_result"
    }
   ],
   "source": [
    "np.argmax(t, axis = 0)"
   ]
  },
  {
   "cell_type": "code",
   "execution_count": 50,
   "id": "dated-bonus",
   "metadata": {},
   "outputs": [
    {
     "data": {
      "text/plain": [
       "1"
      ]
     },
     "execution_count": 50,
     "metadata": {},
     "output_type": "execute_result"
    }
   ],
   "source": [
    "np.argmax(t[1][2])"
   ]
  },
  {
   "cell_type": "code",
   "execution_count": 51,
   "id": "ruled-robinson",
   "metadata": {},
   "outputs": [
    {
     "data": {
      "text/plain": [
       "12.0"
      ]
     },
     "execution_count": 51,
     "metadata": {},
     "output_type": "execute_result"
    }
   ],
   "source": [
    "np.max(t[1][2])"
   ]
  },
  {
   "cell_type": "code",
   "execution_count": 107,
   "id": "reverse-following",
   "metadata": {},
   "outputs": [],
   "source": [
    "t2 = np.full((10,4,10),-5000)"
   ]
  },
  {
   "cell_type": "code",
   "execution_count": 108,
   "id": "cleared-hamburg",
   "metadata": {},
   "outputs": [
    {
     "data": {
      "text/plain": [
       "(100, 4, 100)"
      ]
     },
     "execution_count": 108,
     "metadata": {},
     "output_type": "execute_result"
    }
   ],
   "source": [
    "t.shape"
   ]
  },
  {
   "cell_type": "code",
   "execution_count": 109,
   "id": "burning-bracket",
   "metadata": {},
   "outputs": [
    {
     "data": {
      "text/plain": [
       "(10, 4, 10)"
      ]
     },
     "execution_count": 109,
     "metadata": {},
     "output_type": "execute_result"
    }
   ],
   "source": [
    "t2.shape"
   ]
  },
  {
   "cell_type": "code",
   "execution_count": 110,
   "id": "minute-scout",
   "metadata": {},
   "outputs": [
    {
     "data": {
      "text/plain": [
       "-5000"
      ]
     },
     "execution_count": 110,
     "metadata": {},
     "output_type": "execute_result"
    }
   ],
   "source": [
    "np.max(t2[0][2])"
   ]
  },
  {
   "cell_type": "code",
   "execution_count": 121,
   "id": "further-consultation",
   "metadata": {},
   "outputs": [],
   "source": [
    "t2[0][2][5] = -5000"
   ]
  },
  {
   "cell_type": "code",
   "execution_count": 122,
   "id": "steady-theater",
   "metadata": {},
   "outputs": [
    {
     "data": {
      "text/plain": [
       "nan"
      ]
     },
     "execution_count": 122,
     "metadata": {},
     "output_type": "execute_result"
    }
   ],
   "source": [
    "np.nan + 1\n"
   ]
  },
  {
   "cell_type": "code",
   "execution_count": 123,
   "id": "romantic-nudist",
   "metadata": {},
   "outputs": [
    {
     "data": {
      "text/plain": [
       "False"
      ]
     },
     "execution_count": 123,
     "metadata": {},
     "output_type": "execute_result"
    }
   ],
   "source": [
    "np.isnan(t2[0][0][0])"
   ]
  },
  {
   "cell_type": "code",
   "execution_count": 124,
   "id": "committed-vietnam",
   "metadata": {},
   "outputs": [
    {
     "data": {
      "text/plain": [
       "0"
      ]
     },
     "execution_count": 124,
     "metadata": {},
     "output_type": "execute_result"
    }
   ],
   "source": [
    "np.argmax(t2[0][2])"
   ]
  },
  {
   "cell_type": "code",
   "execution_count": 125,
   "id": "spoken-royalty",
   "metadata": {},
   "outputs": [],
   "source": [
    "t3 = t2[0][2]"
   ]
  },
  {
   "cell_type": "code",
   "execution_count": 126,
   "id": "still-bookmark",
   "metadata": {},
   "outputs": [
    {
     "data": {
      "text/plain": [
       "(10,)"
      ]
     },
     "execution_count": 126,
     "metadata": {},
     "output_type": "execute_result"
    }
   ],
   "source": [
    "t3.shape"
   ]
  },
  {
   "cell_type": "code",
   "execution_count": 127,
   "id": "specialized-compromise",
   "metadata": {},
   "outputs": [
    {
     "data": {
      "text/plain": [
       "array([-5000, -5000, -5000, -5000, -5000, -5000, -5000, -5000, -5000,\n",
       "       -5000])"
      ]
     },
     "execution_count": 127,
     "metadata": {},
     "output_type": "execute_result"
    }
   ],
   "source": [
    "t3"
   ]
  },
  {
   "cell_type": "code",
   "execution_count": 128,
   "id": "portable-rental",
   "metadata": {},
   "outputs": [
    {
     "data": {
      "text/plain": [
       "-5000"
      ]
     },
     "execution_count": 128,
     "metadata": {},
     "output_type": "execute_result"
    }
   ],
   "source": [
    "np.amax(t3)"
   ]
  },
  {
   "cell_type": "code",
   "execution_count": 131,
   "id": "strategic-humor",
   "metadata": {},
   "outputs": [
    {
     "data": {
      "text/plain": [
       "array([3, 3, 7, 9, 9, 1, 6, 4, 7, 6, 6, 2, 0, 0, 6, 0, 0, 3, 9, 1, 2, 3,\n",
       "       9, 8, 4, 5, 3, 0, 9, 4, 9, 1, 1, 7, 1, 9, 3, 2, 1, 7, 7, 2, 2, 2,\n",
       "       0, 8, 6, 1, 4, 9, 0, 1, 2, 4, 7, 0, 5, 7, 0, 1, 2, 3, 3, 4, 7, 7,\n",
       "       9, 8, 3, 6, 3, 0, 6, 7, 9, 6, 5, 6, 2, 9, 1, 0, 2, 3, 5, 9, 7, 0,\n",
       "       1, 5, 3, 0, 0, 8, 7, 7, 7, 8, 4, 5, 5, 7, 0, 7, 4, 0, 4, 5, 9, 8,\n",
       "       4, 7, 6, 1, 6, 7, 3, 7, 7, 1, 6, 1, 6, 4, 7, 5, 7, 7, 0, 9, 6, 9,\n",
       "       0, 0, 0, 2, 3, 2, 4, 0, 3, 7, 5, 3, 1, 0, 3, 8, 5, 0, 3, 0, 5, 0,\n",
       "       8, 9, 5, 0, 3, 9, 0, 4, 7, 6, 6, 2, 1, 0, 9, 5, 8, 7, 2, 6, 2, 8,\n",
       "       3, 4, 5, 3, 8, 9, 7, 4, 5, 7, 4, 9, 7, 5, 7, 0, 2, 7, 2, 6, 8, 3,\n",
       "       9, 7])"
      ]
     },
     "execution_count": 131,
     "metadata": {},
     "output_type": "execute_result"
    }
   ],
   "source": [
    "np.random.randint(0, 10, size=200)"
   ]
  },
  {
   "cell_type": "code",
   "execution_count": 133,
   "id": "dental-margin",
   "metadata": {},
   "outputs": [
    {
     "data": {
      "text/plain": [
       "117.0"
      ]
     },
     "execution_count": 133,
     "metadata": {},
     "output_type": "execute_result"
    }
   ],
   "source": [
    "200 // 1.7\n"
   ]
  },
  {
   "cell_type": "code",
   "execution_count": 141,
   "id": "dietary-lesbian",
   "metadata": {},
   "outputs": [],
   "source": [
    "T = np.full((10,4,12),-1)"
   ]
  },
  {
   "cell_type": "code",
   "execution_count": null,
   "id": "variable-tokyo",
   "metadata": {},
   "outputs": [],
   "source": [
    "T = "
   ]
  },
  {
   "cell_type": "code",
   "execution_count": null,
   "id": "corrected-conversation",
   "metadata": {},
   "outputs": [],
   "source": []
  }
 ],
 "metadata": {
  "kernelspec": {
   "display_name": "Python 3",
   "language": "python",
   "name": "python3"
  },
  "language_info": {
   "codemirror_mode": {
    "name": "ipython",
    "version": 3
   },
   "file_extension": ".py",
   "mimetype": "text/x-python",
   "name": "python",
   "nbconvert_exporter": "python",
   "pygments_lexer": "ipython3",
   "version": "3.8.5"
  }
 },
 "nbformat": 4,
 "nbformat_minor": 5
}
