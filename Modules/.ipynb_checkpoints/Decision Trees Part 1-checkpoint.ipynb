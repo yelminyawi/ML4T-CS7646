{
 "cells": [
  {
   "cell_type": "code",
   "execution_count": null,
   "metadata": {},
   "outputs": [],
   "source": [
    "''' \n",
    "- Decision Trees can be used for classification and regression\n",
    "- made up of quantitative factors \n",
    "- composed of node, decision nodes and leaves\n",
    "- root node has a binary question with a value that you split on\n",
    "- last nodes at the end are leaves\n",
    "\n",
    "Based on guessing toy example\n",
    "- So a decision tree is made up of\n",
    "    factors: x1, x2, x3\n",
    "    labels: y\n",
    "    nodes: factor used, split value, left link, right link \n",
    "    top is root, bottom are leaves\n",
    "\n",
    "\n",
    "- to build the decision tree we are NOT taking an object oriented approach. Instead\n",
    "in python we implement this with a matrix or ndArray\n",
    "\n",
    "- at around 00:59:00 the tree structure is displayed\n",
    "\n",
    "\n",
    "- once you have a model which algorithm is the quickest?\n",
    " Answer: Linear Regression\n",
    " KNN is very slow at query\n",
    "\n",
    "- on average, how many binary queries are needed to find the answer for a tree, say of 1000 nodes\n",
    "answer log10 (1000). Its very fast. 2 assummptions come with this. 1. is that the tree is binary 2. the tree is balanced\n",
    "\n",
    "- decision trees are slow at learning time\n",
    "\n",
    "- sometimes we repeat factors in the tree, not all factors are garuanteed to be used\n",
    "\n",
    "'''"
   ]
  },
  {
   "cell_type": "code",
   "execution_count": null,
   "metadata": {},
   "outputs": [],
   "source": []
  },
  {
   "cell_type": "code",
   "execution_count": null,
   "metadata": {},
   "outputs": [],
   "source": []
  }
 ],
 "metadata": {
  "kernelspec": {
   "display_name": "Python 3",
   "language": "python",
   "name": "python3"
  },
  "language_info": {
   "codemirror_mode": {
    "name": "ipython",
    "version": 3
   },
   "file_extension": ".py",
   "mimetype": "text/x-python",
   "name": "python",
   "nbconvert_exporter": "python",
   "pygments_lexer": "ipython3",
   "version": "3.8.3"
  }
 },
 "nbformat": 4,
 "nbformat_minor": 4
}
