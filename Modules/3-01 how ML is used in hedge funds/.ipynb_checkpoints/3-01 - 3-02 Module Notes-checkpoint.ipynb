{
 "cells": [
  {
   "cell_type": "code",
   "execution_count": null,
   "metadata": {},
   "outputs": [],
   "source": [
    "'''\n",
    "Notes:\n",
    "\n",
    "2. The ML model\n",
    "x -> model -> y\n",
    "we take in observations x and their predictions y to build a model\n",
    "so we take historical data to build the model around some ML algorithm\n",
    "\n",
    "4.\n",
    "We will focus on Supervised Regression Learning - \n",
    "supervised - we show the model the x and y associations\n",
    "regression - we are trying to make a numerical predictions (as apposed to classification)\n",
    "learning - we are training with data (hisorical stock data)\n",
    "\n",
    "types: Linear Regression (parametric),  K Nearest Neighbor (KNN), decision trees, defcision forests\n",
    "\n",
    "9. Back testing:\n",
    "\n",
    "To test the accuracy of your prediction\n",
    "Roll back time and test your system\n",
    "Using historical data, use your model to see how close it matches\n",
    "\n",
    "\n",
    "11. Problems with regression\n",
    "noisy and uncertain\n",
    "hard to know how confident you can be\n",
    "its unclear how long to hold a position and allocating \n",
    "Reinforcement learning can help\n",
    "'''"
   ]
  },
  {
   "cell_type": "code",
   "execution_count": null,
   "metadata": {},
   "outputs": [],
   "source": [
    "'''\n",
    "3-02\n",
    "\n",
    "2: Parametric Regression can be used to fit the curves to whatever type of behavior the data is presenting.\n",
    "For lines, can use y = mx + b or linear regression, but can go further and do y = x2^2 + x1m + b and so on\n",
    "\n",
    "3: K nearest neighbor - In this approach we have a data point we want to find a y value for so we\n",
    "check our graph/data and find the k (3 in his example) closest points or neighbors to that value and estimate based on that.\n",
    "\n",
    "\n",
    "At each of the x value of the nearest neighbors, we now want to take the mean of their y values and use that as our estimate.\n",
    "\n",
    "7. If unsure about our model, i.e. no previous bias on the shape then it is best to use a non parametric approach\n",
    "'''"
   ]
  }
 ],
 "metadata": {
  "kernelspec": {
   "display_name": "Python 3",
   "language": "python",
   "name": "python3"
  },
  "language_info": {
   "codemirror_mode": {
    "name": "ipython",
    "version": 3
   },
   "file_extension": ".py",
   "mimetype": "text/x-python",
   "name": "python",
   "nbconvert_exporter": "python",
   "pygments_lexer": "ipython3",
   "version": "3.8.3"
  }
 },
 "nbformat": 4,
 "nbformat_minor": 4
}
