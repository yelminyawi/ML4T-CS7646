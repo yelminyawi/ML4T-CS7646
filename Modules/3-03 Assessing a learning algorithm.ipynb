{
 "cells": [
  {
   "cell_type": "code",
   "execution_count": null,
   "metadata": {},
   "outputs": [],
   "source": [
    "'''\n",
    "2: Closer look at KNN\n",
    "\n",
    "Remember we take the mean of the set K closest to get the approximate value of y we are looking for\n",
    "Good for fitting the data, but there are horizontal lines at the ends\n",
    "\n",
    "\n",
    "3. What happens when k varies\n",
    "If we use the average of every value of y (Or K = N), we end up with a straight line\n",
    "\n",
    "If we use K = 1, we are going to pretty much match the data we we given since there is nothing to average\n",
    "\n",
    "As we increase K we are less and less likely to overfit\n",
    "\n",
    "\n",
    "4. What happens as D varies (polynomials)\n",
    "As we increase D (our degree of polynomial) we are more likely to overfit\n",
    "Good thing (vs KNN) is that as we go off of the edge of the model, we are able to extrapolate, this is not the case in KNN\n",
    "\n",
    "5. Metric 1 RMS Error\n",
    "\n",
    "Root mean square error = sqrt (sum(ytest-ypredict)^2  / N)\n",
    "\n",
    "Essentially this is an approximation of the average of errors, though we end up emphasizing larger errors more\n",
    "\n",
    "6. In sample vs out of sample\n",
    "When creating the models they can be very close to the correct value, i.e. low error, but this is with the\n",
    "training data that we are using. What we want to do is find the error for the data that we are not using to train the model.\n",
    "This is the out of sample error, which is found by finding the error for the test data.\n",
    "\n",
    "\n",
    "7. Which error is worse? In sample or out of sample\n",
    "Out of sample obviously.\n",
    "\n",
    "\n",
    "8. Cross validation\n",
    "Split data given 60% - 40% into test train data usually.\n",
    "\n",
    "BUT\n",
    "\n",
    "this is only one trial. To better analyze the algorithm. You can split your data in 5 chunks with different splits\n",
    "\n",
    "test train train train train\n",
    "train test train train train\n",
    "train\n",
    "train\n",
    "\n",
    "\n",
    "\n",
    "14. A few other considerations\n",
    "Linear reg is better for space saving, KNN requires you to save all data\n",
    "KNN is way better at computing time  to train\n",
    "Linear regression is far easier to query in terms of compute time\n",
    "KNN is easier to add new data, linear regression requires recomputing to incorporate the new data\n",
    "\n",
    "'''"
   ]
  }
 ],
 "metadata": {
  "kernelspec": {
   "display_name": "Python 3",
   "language": "python",
   "name": "python3"
  },
  "language_info": {
   "codemirror_mode": {
    "name": "ipython",
    "version": 3
   },
   "file_extension": ".py",
   "mimetype": "text/x-python",
   "name": "python",
   "nbconvert_exporter": "python",
   "pygments_lexer": "ipython3",
   "version": "3.8.3"
  }
 },
 "nbformat": 4,
 "nbformat_minor": 4
}
