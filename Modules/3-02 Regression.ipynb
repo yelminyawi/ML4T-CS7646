{
 "cells": [
  {
   "cell_type": "code",
   "execution_count": null,
   "metadata": {},
   "outputs": [],
   "source": [
    "'''\n",
    "This sections is essentiall here to give the format of how our ML models will be. Here is a rough fomrat\n",
    "\n",
    "\n",
    "Class MLModel():\n",
    "\n",
    "    def __init__():\n",
    "        pass\n",
    "    \n",
    "    def train(x,y):\n",
    "        self.m, self.b = favorite_linreg(x,y)\n",
    "    def query(x):\n",
    "        y = self.m*x + self.b\n",
    "        return y\n",
    "\n",
    "'''"
   ]
  }
 ],
 "metadata": {
  "kernelspec": {
   "display_name": "Python 3",
   "language": "python",
   "name": "python3"
  },
  "language_info": {
   "codemirror_mode": {
    "name": "ipython",
    "version": 3
   },
   "file_extension": ".py",
   "mimetype": "text/x-python",
   "name": "python",
   "nbconvert_exporter": "python",
   "pygments_lexer": "ipython3",
   "version": "3.8.3"
  }
 },
 "nbformat": 4,
 "nbformat_minor": 4
}
